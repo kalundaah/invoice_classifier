{
 "cells": [
  {
   "cell_type": "markdown",
   "metadata": {},
   "source": [
    "#### Dependencies"
   ]
  },
  {
   "cell_type": "code",
   "execution_count": 13,
   "metadata": {},
   "outputs": [
    {
     "name": "stdout",
     "output_type": "stream",
     "text": [
      "Defaulting to user installation because normal site-packages is not writeable\n",
      "Requirement already satisfied: pandas in /home/kalundaah/.local/lib/python3.11/site-packages (2.1.0)\n",
      "Requirement already satisfied: numpy>=1.23.2 in /home/kalundaah/.local/lib/python3.11/site-packages (from pandas) (1.26.0)\n",
      "Requirement already satisfied: python-dateutil>=2.8.2 in /usr/lib/python3.11/site-packages (from pandas) (2.8.2)\n",
      "Requirement already satisfied: pytz>=2020.1 in /home/kalundaah/.local/lib/python3.11/site-packages (from pandas) (2023.3.post1)\n",
      "Requirement already satisfied: tzdata>=2022.1 in /home/kalundaah/.local/lib/python3.11/site-packages (from pandas) (2023.3)\n",
      "Requirement already satisfied: six>=1.5 in /usr/lib/python3.11/site-packages (from python-dateutil>=2.8.2->pandas) (1.16.0)\n",
      "Defaulting to user installation because normal site-packages is not writeable\n",
      "Requirement already satisfied: numpy in /home/kalundaah/.local/lib/python3.11/site-packages (1.26.0)\n",
      "Defaulting to user installation because normal site-packages is not writeable\n",
      "Requirement already satisfied: opencv-python in /home/kalundaah/.local/lib/python3.11/site-packages (4.8.0.76)\n",
      "Requirement already satisfied: numpy>=1.21.2 in /home/kalundaah/.local/lib/python3.11/site-packages (from opencv-python) (1.26.0)\n",
      "Defaulting to user installation because normal site-packages is not writeable\n",
      "Requirement already satisfied: pytesseract in /home/kalundaah/.local/lib/python3.11/site-packages (0.3.10)\n",
      "Requirement already satisfied: packaging>=21.3 in /usr/lib/python3.11/site-packages (from pytesseract) (23.0)\n",
      "Requirement already satisfied: Pillow>=8.0.0 in /usr/lib64/python3.11/site-packages (from pytesseract) (9.4.0)\n",
      "Error: This command has to be run with superuser privileges (under the root user on most systems).\n",
      "Error: This command has to be run with superuser privileges (under the root user on most systems).\n",
      "Defaulting to user installation because normal site-packages is not writeable\n",
      "Requirement already satisfied: spacy in /home/kalundaah/.local/lib/python3.11/site-packages (3.6.1)\n",
      "Requirement already satisfied: spacy-legacy<3.1.0,>=3.0.11 in /home/kalundaah/.local/lib/python3.11/site-packages (from spacy) (3.0.12)\n",
      "Requirement already satisfied: spacy-loggers<2.0.0,>=1.0.0 in /home/kalundaah/.local/lib/python3.11/site-packages (from spacy) (1.0.5)\n",
      "Requirement already satisfied: murmurhash<1.1.0,>=0.28.0 in /home/kalundaah/.local/lib/python3.11/site-packages (from spacy) (1.0.10)\n",
      "Requirement already satisfied: cymem<2.1.0,>=2.0.2 in /home/kalundaah/.local/lib/python3.11/site-packages (from spacy) (2.0.8)\n",
      "Requirement already satisfied: preshed<3.1.0,>=3.0.2 in /home/kalundaah/.local/lib/python3.11/site-packages (from spacy) (3.0.9)\n",
      "Requirement already satisfied: thinc<8.2.0,>=8.1.8 in /home/kalundaah/.local/lib/python3.11/site-packages (from spacy) (8.1.12)\n",
      "Requirement already satisfied: wasabi<1.2.0,>=0.9.1 in /home/kalundaah/.local/lib/python3.11/site-packages (from spacy) (1.1.2)\n",
      "Requirement already satisfied: srsly<3.0.0,>=2.4.3 in /home/kalundaah/.local/lib/python3.11/site-packages (from spacy) (2.4.7)\n",
      "Requirement already satisfied: catalogue<2.1.0,>=2.0.6 in /home/kalundaah/.local/lib/python3.11/site-packages (from spacy) (2.0.9)\n",
      "Requirement already satisfied: typer<0.10.0,>=0.3.0 in /home/kalundaah/.local/lib/python3.11/site-packages (from spacy) (0.9.0)\n",
      "Requirement already satisfied: pathy>=0.10.0 in /home/kalundaah/.local/lib/python3.11/site-packages (from spacy) (0.10.2)\n",
      "Requirement already satisfied: smart-open<7.0.0,>=5.2.1 in /home/kalundaah/.local/lib/python3.11/site-packages (from spacy) (6.4.0)\n",
      "Requirement already satisfied: tqdm<5.0.0,>=4.38.0 in /home/kalundaah/.local/lib/python3.11/site-packages (from spacy) (4.66.1)\n",
      "Requirement already satisfied: numpy>=1.15.0 in /home/kalundaah/.local/lib/python3.11/site-packages (from spacy) (1.26.0)\n",
      "Requirement already satisfied: requests<3.0.0,>=2.13.0 in /usr/lib/python3.11/site-packages (from spacy) (2.28.2)\n",
      "Requirement already satisfied: pydantic!=1.8,!=1.8.1,<3.0.0,>=1.7.4 in /home/kalundaah/.local/lib/python3.11/site-packages (from spacy) (2.3.0)\n",
      "Requirement already satisfied: jinja2 in /home/kalundaah/.local/lib/python3.11/site-packages (from spacy) (3.1.2)\n",
      "Requirement already satisfied: setuptools in /home/kalundaah/.local/lib/python3.11/site-packages (from spacy) (68.2.2)\n",
      "Requirement already satisfied: packaging>=20.0 in /usr/lib/python3.11/site-packages (from spacy) (23.0)\n",
      "Requirement already satisfied: langcodes<4.0.0,>=3.2.0 in /home/kalundaah/.local/lib/python3.11/site-packages (from spacy) (3.3.0)\n",
      "Requirement already satisfied: annotated-types>=0.4.0 in /home/kalundaah/.local/lib/python3.11/site-packages (from pydantic!=1.8,!=1.8.1,<3.0.0,>=1.7.4->spacy) (0.5.0)\n",
      "Requirement already satisfied: pydantic-core==2.6.3 in /home/kalundaah/.local/lib/python3.11/site-packages (from pydantic!=1.8,!=1.8.1,<3.0.0,>=1.7.4->spacy) (2.6.3)\n",
      "Requirement already satisfied: typing-extensions>=4.6.1 in /home/kalundaah/.local/lib/python3.11/site-packages (from pydantic!=1.8,!=1.8.1,<3.0.0,>=1.7.4->spacy) (4.8.0)\n",
      "Requirement already satisfied: charset-normalizer<4,>=2 in /usr/lib/python3.11/site-packages (from requests<3.0.0,>=2.13.0->spacy) (3.1.0)\n",
      "Requirement already satisfied: idna<4,>=2.5 in /usr/lib/python3.11/site-packages (from requests<3.0.0,>=2.13.0->spacy) (3.4)\n",
      "Requirement already satisfied: urllib3<1.27,>=1.21.1 in /usr/lib/python3.11/site-packages (from requests<3.0.0,>=2.13.0->spacy) (1.26.16)\n",
      "Requirement already satisfied: blis<0.8.0,>=0.7.8 in /home/kalundaah/.local/lib/python3.11/site-packages (from thinc<8.2.0,>=8.1.8->spacy) (0.7.10)\n",
      "Requirement already satisfied: confection<1.0.0,>=0.0.1 in /home/kalundaah/.local/lib/python3.11/site-packages (from thinc<8.2.0,>=8.1.8->spacy) (0.1.3)\n",
      "Requirement already satisfied: click<9.0.0,>=7.1.1 in /usr/lib/python3.11/site-packages (from typer<0.10.0,>=0.3.0->spacy) (8.1.3)\n",
      "Requirement already satisfied: MarkupSafe>=2.0 in /usr/lib64/python3.11/site-packages (from jinja2->spacy) (2.1.2)\n",
      "Defaulting to user installation because normal site-packages is not writeable\n",
      "Collecting en-core-web-sm==3.6.0\n",
      "  Downloading https://github.com/explosion/spacy-models/releases/download/en_core_web_sm-3.6.0/en_core_web_sm-3.6.0-py3-none-any.whl (12.8 MB)\n",
      "\u001b[2K     \u001b[90m━━━━━━━━━━━━━━━━━━━━━━━━━━━━━━━━━━━━━━━━\u001b[0m \u001b[32m12.8/12.8 MB\u001b[0m \u001b[31m1.1 MB/s\u001b[0m eta \u001b[36m0:00:00\u001b[0m00:01\u001b[0m00:01\u001b[0mm\n",
      "\u001b[?25hRequirement already satisfied: spacy<3.7.0,>=3.6.0 in /home/kalundaah/.local/lib/python3.11/site-packages (from en-core-web-sm==3.6.0) (3.6.1)\n",
      "Requirement already satisfied: spacy-legacy<3.1.0,>=3.0.11 in /home/kalundaah/.local/lib/python3.11/site-packages (from spacy<3.7.0,>=3.6.0->en-core-web-sm==3.6.0) (3.0.12)\n",
      "Requirement already satisfied: spacy-loggers<2.0.0,>=1.0.0 in /home/kalundaah/.local/lib/python3.11/site-packages (from spacy<3.7.0,>=3.6.0->en-core-web-sm==3.6.0) (1.0.5)\n",
      "Requirement already satisfied: murmurhash<1.1.0,>=0.28.0 in /home/kalundaah/.local/lib/python3.11/site-packages (from spacy<3.7.0,>=3.6.0->en-core-web-sm==3.6.0) (1.0.10)\n",
      "Requirement already satisfied: cymem<2.1.0,>=2.0.2 in /home/kalundaah/.local/lib/python3.11/site-packages (from spacy<3.7.0,>=3.6.0->en-core-web-sm==3.6.0) (2.0.8)\n",
      "Requirement already satisfied: preshed<3.1.0,>=3.0.2 in /home/kalundaah/.local/lib/python3.11/site-packages (from spacy<3.7.0,>=3.6.0->en-core-web-sm==3.6.0) (3.0.9)\n",
      "Requirement already satisfied: thinc<8.2.0,>=8.1.8 in /home/kalundaah/.local/lib/python3.11/site-packages (from spacy<3.7.0,>=3.6.0->en-core-web-sm==3.6.0) (8.1.12)\n",
      "Requirement already satisfied: wasabi<1.2.0,>=0.9.1 in /home/kalundaah/.local/lib/python3.11/site-packages (from spacy<3.7.0,>=3.6.0->en-core-web-sm==3.6.0) (1.1.2)\n",
      "Requirement already satisfied: srsly<3.0.0,>=2.4.3 in /home/kalundaah/.local/lib/python3.11/site-packages (from spacy<3.7.0,>=3.6.0->en-core-web-sm==3.6.0) (2.4.7)\n",
      "Requirement already satisfied: catalogue<2.1.0,>=2.0.6 in /home/kalundaah/.local/lib/python3.11/site-packages (from spacy<3.7.0,>=3.6.0->en-core-web-sm==3.6.0) (2.0.9)\n",
      "Requirement already satisfied: typer<0.10.0,>=0.3.0 in /home/kalundaah/.local/lib/python3.11/site-packages (from spacy<3.7.0,>=3.6.0->en-core-web-sm==3.6.0) (0.9.0)\n",
      "Requirement already satisfied: pathy>=0.10.0 in /home/kalundaah/.local/lib/python3.11/site-packages (from spacy<3.7.0,>=3.6.0->en-core-web-sm==3.6.0) (0.10.2)\n",
      "Requirement already satisfied: smart-open<7.0.0,>=5.2.1 in /home/kalundaah/.local/lib/python3.11/site-packages (from spacy<3.7.0,>=3.6.0->en-core-web-sm==3.6.0) (6.4.0)\n",
      "Requirement already satisfied: tqdm<5.0.0,>=4.38.0 in /home/kalundaah/.local/lib/python3.11/site-packages (from spacy<3.7.0,>=3.6.0->en-core-web-sm==3.6.0) (4.66.1)\n",
      "Requirement already satisfied: numpy>=1.15.0 in /home/kalundaah/.local/lib/python3.11/site-packages (from spacy<3.7.0,>=3.6.0->en-core-web-sm==3.6.0) (1.26.0)\n",
      "Requirement already satisfied: requests<3.0.0,>=2.13.0 in /usr/lib/python3.11/site-packages (from spacy<3.7.0,>=3.6.0->en-core-web-sm==3.6.0) (2.28.2)\n",
      "Requirement already satisfied: pydantic!=1.8,!=1.8.1,<3.0.0,>=1.7.4 in /home/kalundaah/.local/lib/python3.11/site-packages (from spacy<3.7.0,>=3.6.0->en-core-web-sm==3.6.0) (2.3.0)\n",
      "Requirement already satisfied: jinja2 in /home/kalundaah/.local/lib/python3.11/site-packages (from spacy<3.7.0,>=3.6.0->en-core-web-sm==3.6.0) (3.1.2)\n",
      "Requirement already satisfied: setuptools in /home/kalundaah/.local/lib/python3.11/site-packages (from spacy<3.7.0,>=3.6.0->en-core-web-sm==3.6.0) (68.2.2)\n",
      "Requirement already satisfied: packaging>=20.0 in /usr/lib/python3.11/site-packages (from spacy<3.7.0,>=3.6.0->en-core-web-sm==3.6.0) (23.0)\n",
      "Requirement already satisfied: langcodes<4.0.0,>=3.2.0 in /home/kalundaah/.local/lib/python3.11/site-packages (from spacy<3.7.0,>=3.6.0->en-core-web-sm==3.6.0) (3.3.0)\n",
      "Requirement already satisfied: annotated-types>=0.4.0 in /home/kalundaah/.local/lib/python3.11/site-packages (from pydantic!=1.8,!=1.8.1,<3.0.0,>=1.7.4->spacy<3.7.0,>=3.6.0->en-core-web-sm==3.6.0) (0.5.0)\n",
      "Requirement already satisfied: pydantic-core==2.6.3 in /home/kalundaah/.local/lib/python3.11/site-packages (from pydantic!=1.8,!=1.8.1,<3.0.0,>=1.7.4->spacy<3.7.0,>=3.6.0->en-core-web-sm==3.6.0) (2.6.3)\n",
      "Requirement already satisfied: typing-extensions>=4.6.1 in /home/kalundaah/.local/lib/python3.11/site-packages (from pydantic!=1.8,!=1.8.1,<3.0.0,>=1.7.4->spacy<3.7.0,>=3.6.0->en-core-web-sm==3.6.0) (4.8.0)\n",
      "Requirement already satisfied: charset-normalizer<4,>=2 in /usr/lib/python3.11/site-packages (from requests<3.0.0,>=2.13.0->spacy<3.7.0,>=3.6.0->en-core-web-sm==3.6.0) (3.1.0)\n",
      "Requirement already satisfied: idna<4,>=2.5 in /usr/lib/python3.11/site-packages (from requests<3.0.0,>=2.13.0->spacy<3.7.0,>=3.6.0->en-core-web-sm==3.6.0) (3.4)\n",
      "Requirement already satisfied: urllib3<1.27,>=1.21.1 in /usr/lib/python3.11/site-packages (from requests<3.0.0,>=2.13.0->spacy<3.7.0,>=3.6.0->en-core-web-sm==3.6.0) (1.26.16)\n",
      "Requirement already satisfied: blis<0.8.0,>=0.7.8 in /home/kalundaah/.local/lib/python3.11/site-packages (from thinc<8.2.0,>=8.1.8->spacy<3.7.0,>=3.6.0->en-core-web-sm==3.6.0) (0.7.10)\n",
      "Requirement already satisfied: confection<1.0.0,>=0.0.1 in /home/kalundaah/.local/lib/python3.11/site-packages (from thinc<8.2.0,>=8.1.8->spacy<3.7.0,>=3.6.0->en-core-web-sm==3.6.0) (0.1.3)\n",
      "Requirement already satisfied: click<9.0.0,>=7.1.1 in /usr/lib/python3.11/site-packages (from typer<0.10.0,>=0.3.0->spacy<3.7.0,>=3.6.0->en-core-web-sm==3.6.0) (8.1.3)\n",
      "Requirement already satisfied: MarkupSafe>=2.0 in /usr/lib64/python3.11/site-packages (from jinja2->spacy<3.7.0,>=3.6.0->en-core-web-sm==3.6.0) (2.1.2)\n",
      "\u001b[38;5;2m✔ Download and installation successful\u001b[0m\n",
      "You can now load the package via spacy.load('en_core_web_sm')\n",
      "Defaulting to user installation because normal site-packages is not writeable\n",
      "Requirement already satisfied: fitz in /home/kalundaah/.local/lib/python3.11/site-packages (0.0.1.dev2)\n",
      "Requirement already satisfied: configobj in /home/kalundaah/.local/lib/python3.11/site-packages (from fitz) (5.0.8)\n",
      "Requirement already satisfied: configparser in /home/kalundaah/.local/lib/python3.11/site-packages (from fitz) (6.0.0)\n",
      "Requirement already satisfied: httplib2 in /home/kalundaah/.local/lib/python3.11/site-packages (from fitz) (0.22.0)\n",
      "Requirement already satisfied: nibabel in /home/kalundaah/.local/lib/python3.11/site-packages (from fitz) (5.1.0)\n",
      "Requirement already satisfied: nipype in /home/kalundaah/.local/lib/python3.11/site-packages (from fitz) (1.8.6)\n",
      "Requirement already satisfied: numpy in /home/kalundaah/.local/lib/python3.11/site-packages (from fitz) (1.26.0)\n",
      "Requirement already satisfied: pandas in /home/kalundaah/.local/lib/python3.11/site-packages (from fitz) (2.1.0)\n",
      "Requirement already satisfied: pyxnat in /home/kalundaah/.local/lib/python3.11/site-packages (from fitz) (1.6)\n",
      "Requirement already satisfied: scipy in /home/kalundaah/.local/lib/python3.11/site-packages (from fitz) (1.11.2)\n",
      "Requirement already satisfied: six in /usr/lib/python3.11/site-packages (from configobj->fitz) (1.16.0)\n",
      "Requirement already satisfied: pyparsing!=3.0.0,!=3.0.1,!=3.0.2,!=3.0.3,<4,>=2.4.2 in /home/kalundaah/.local/lib/python3.11/site-packages (from httplib2->fitz) (3.1.1)\n",
      "Requirement already satisfied: packaging>=17 in /usr/lib/python3.11/site-packages (from nibabel->fitz) (23.0)\n",
      "Requirement already satisfied: click>=6.6.0 in /usr/lib/python3.11/site-packages (from nipype->fitz) (8.1.3)\n",
      "Requirement already satisfied: networkx>=2.0 in /home/kalundaah/.local/lib/python3.11/site-packages (from nipype->fitz) (3.1)\n",
      "Requirement already satisfied: prov>=1.5.2 in /home/kalundaah/.local/lib/python3.11/site-packages (from nipype->fitz) (2.0.0)\n",
      "Requirement already satisfied: pydot>=1.2.3 in /home/kalundaah/.local/lib/python3.11/site-packages (from nipype->fitz) (1.4.2)\n",
      "Requirement already satisfied: python-dateutil>=2.2 in /usr/lib/python3.11/site-packages (from nipype->fitz) (2.8.2)\n",
      "Requirement already satisfied: rdflib>=5.0.0 in /home/kalundaah/.local/lib/python3.11/site-packages (from nipype->fitz) (7.0.0)\n",
      "Requirement already satisfied: simplejson>=3.8.0 in /home/kalundaah/.local/lib/python3.11/site-packages (from nipype->fitz) (3.19.1)\n",
      "Requirement already satisfied: traits!=5.0,<6.4,>=4.6 in /home/kalundaah/.local/lib/python3.11/site-packages (from nipype->fitz) (6.3.2)\n",
      "Requirement already satisfied: filelock>=3.0.0 in /home/kalundaah/.local/lib/python3.11/site-packages (from nipype->fitz) (3.12.4)\n",
      "Requirement already satisfied: etelemetry>=0.2.0 in /home/kalundaah/.local/lib/python3.11/site-packages (from nipype->fitz) (0.3.0)\n",
      "Requirement already satisfied: looseversion in /home/kalundaah/.local/lib/python3.11/site-packages (from nipype->fitz) (1.3.0)\n",
      "Requirement already satisfied: pytz>=2020.1 in /home/kalundaah/.local/lib/python3.11/site-packages (from pandas->fitz) (2023.3.post1)\n",
      "Requirement already satisfied: tzdata>=2022.1 in /home/kalundaah/.local/lib/python3.11/site-packages (from pandas->fitz) (2023.3)\n",
      "Requirement already satisfied: future>=0.16 in /home/kalundaah/.local/lib/python3.11/site-packages (from pyxnat->fitz) (0.18.3)\n",
      "Requirement already satisfied: lxml>=4.3 in /usr/lib64/python3.11/site-packages (from pyxnat->fitz) (4.9.2)\n",
      "Requirement already satisfied: pathlib>=1.0 in /home/kalundaah/.local/lib/python3.11/site-packages (from pyxnat->fitz) (1.0.1)\n",
      "Requirement already satisfied: requests>=2.20 in /usr/lib/python3.11/site-packages (from pyxnat->fitz) (2.28.2)\n",
      "Requirement already satisfied: ci-info>=0.2 in /home/kalundaah/.local/lib/python3.11/site-packages (from etelemetry>=0.2.0->nipype->fitz) (0.3.0)\n",
      "Requirement already satisfied: isodate<0.7.0,>=0.6.0 in /home/kalundaah/.local/lib/python3.11/site-packages (from rdflib>=5.0.0->nipype->fitz) (0.6.1)\n",
      "Requirement already satisfied: charset-normalizer<4,>=2 in /usr/lib/python3.11/site-packages (from requests>=2.20->pyxnat->fitz) (3.1.0)\n",
      "Requirement already satisfied: idna<4,>=2.5 in /usr/lib/python3.11/site-packages (from requests>=2.20->pyxnat->fitz) (3.4)\n",
      "Requirement already satisfied: urllib3<1.27,>=1.21.1 in /usr/lib/python3.11/site-packages (from requests>=2.20->pyxnat->fitz) (1.26.16)\n",
      "Defaulting to user installation because normal site-packages is not writeable\n",
      "Requirement already satisfied: PyPDF2 in /home/kalundaah/.local/lib/python3.11/site-packages (3.0.1)\n",
      "Requirement already satisfied: pdf2image in /home/kalundaah/.local/lib/python3.11/site-packages (1.16.3)\n",
      "Requirement already satisfied: pillow in /usr/lib64/python3.11/site-packages (from pdf2image) (9.4.0)\n"
     ]
    }
   ],
   "source": [
    "# !pip install pandas\n",
    "# !pip install numpy\n",
    "# !pip install opencv-python\n",
    "# !pip install pytesseract\n",
    "# !dnf install tesseract-ocr\n",
    "# !dnf install poppler-utils\n",
    "# !pip install -U spacy\n",
    "# !python -m spacy download en_core_web_sm\n",
    "# !pip install fitz\n",
    "# !pip install PyPDF2 pdf2image\n"
   ]
  },
  {
   "cell_type": "markdown",
   "metadata": {},
   "source": [
    "# Creating a model that takes in the images and processes them\n"
   ]
  },
  {
   "cell_type": "markdown",
   "metadata": {},
   "source": [
    "## Image Processing"
   ]
  },
  {
   "cell_type": "markdown",
   "metadata": {},
   "source": [
    "### Collect all PDF's and change them to image format\n"
   ]
  },
  {
   "cell_type": "code",
   "execution_count": 14,
   "metadata": {},
   "outputs": [
    {
     "name": "stdout",
     "output_type": "stream",
     "text": [
      "Image extraction completed.\n"
     ]
    }
   ],
   "source": [
    "import os\n",
    "import glob\n",
    "import PyPDF2\n",
    "from pdf2image import convert_from_path\n",
    "\n",
    "# Path to PDFs\n",
    "directory_path = './Prod files/'\n",
    "\n",
    "# Extension to be captured\n",
    "pdf_extension = '*.pdf'\n",
    "\n",
    "# Create a directory to save the extracted images\n",
    "output_directory = './extracted_images/'\n",
    "os.makedirs(output_directory, exist_ok=True)\n",
    "\n",
    "def extract_images_from_pdf(pdf_path, output_dir):\n",
    "    try:\n",
    "        # Open the PDF file using PyPDF2\n",
    "        with open(pdf_path, 'rb') as pdf_file:\n",
    "            full_name = os.path.basename(pdf_path)\n",
    "            file_name = os.path.splitext(full_name)\n",
    "            pdf_reader = PyPDF2.PdfReader(pdf_file)\n",
    "            num_pages = len(pdf_reader.pages)\n",
    "\n",
    "            # Convert each page of the PDF to images using pdf2image\n",
    "            images = convert_from_path(pdf_path)\n",
    "\n",
    "            for page_num, image in enumerate(images, start=1):\n",
    "                # Save the image as PNG\n",
    "                image_filename = os.path.join(output_dir, f'{file_name[0]}page{page_num}.png')\n",
    "                image.save(image_filename, 'PNG')\n",
    "\n",
    "    except Exception as e:\n",
    "        print(f\"Error extracting images from {pdf_path}: {str(e)}\")\n",
    "\n",
    "# Find PDF files in the directory\n",
    "pdf_files = glob.glob(os.path.join(directory_path, pdf_extension))\n",
    "\n",
    "# Loop through each PDF and extract images\n",
    "for pdf_path in pdf_files:\n",
    "    extract_images_from_pdf(pdf_path, output_directory)\n",
    "\n",
    "print(\"Image extraction completed.\")\n"
   ]
  },
  {
   "cell_type": "markdown",
   "metadata": {},
   "source": [
    "## extract the text from the images"
   ]
  },
  {
   "cell_type": "code",
   "execution_count": 17,
   "metadata": {},
   "outputs": [
    {
     "name": "stdout",
     "output_type": "stream",
     "text": [
      "Image 1\n",
      "Image 2\n",
      "Image 3\n",
      "Image 4\n",
      "Image 5\n",
      "Image 6\n",
      "Image 7\n",
      "Image 8\n",
      "Image 9\n",
      "Image 10\n"
     ]
    }
   ],
   "source": [
    "import pytesseract\n",
    "import cv2\n",
    "import os\n",
    "import glob\n",
    "\n",
    "# Define the directory path where your invoice images are located\n",
    "directory_path = \"./extracted_images/\"\n",
    "\n",
    "# Extensions to be captured\n",
    "image_extensions = ['*.jpg', '*.png']\n",
    "\n",
    "# List to store the captured data\n",
    "image_data = []\n",
    "\n",
    "i = 0\n",
    "\n",
    "# Tesseract configuration options (you can customize these)\n",
    "custom_config = r'--oem 3 --psm 6'\n",
    "\n",
    "for extension in image_extensions:\n",
    "    pattern = os.path.join(directory_path, extension)\n",
    "    image_files = glob.glob(pattern)\n",
    "    for img_path in image_files:\n",
    "        full_name = os.path.basename(img_path)\n",
    "        file_name = os.path.splitext(full_name)\n",
    "\n",
    "        # Load image\n",
    "        img = cv2.imread(img_path)\n",
    "\n",
    "        # Convert image to grayscale\n",
    "        gray = cv2.cvtColor(img, cv2.COLOR_BGR2GRAY)\n",
    "\n",
    "        # Apply threshold to convert to binary image\n",
    "        threshold_img = cv2.threshold(gray, 0, 255, cv2.THRESH_BINARY + cv2.THRESH_OTSU)[1]\n",
    "\n",
    "        # Additional pre-processing steps can be added here (e.g., resizing, denoising)\n",
    "\n",
    "        # Pass the pre-processed image through pytesseract with custom config\n",
    "        text = pytesseract.image_to_string(threshold_img, config=custom_config, lang='eng')\n",
    "\n",
    "        name = file_name[0]\n",
    "\n",
    "        # Print the extracted text\n",
    "        image_data.append([name, text])\n",
    "        i += 1\n",
    "        print('Image', i)\n"
   ]
  },
  {
   "cell_type": "markdown",
   "metadata": {},
   "source": [
    "## Save the extracted text in a df "
   ]
  },
  {
   "cell_type": "code",
   "execution_count": 18,
   "metadata": {},
   "outputs": [],
   "source": [
    "import pandas as pd\n",
    "text = pd.DataFrame(image_data,columns=(\"image_name\",\"text\"))\n",
    "text.to_csv(\"./Prod files/extracted_text2.csv\")"
   ]
  },
  {
   "cell_type": "markdown",
   "metadata": {},
   "source": []
  },
  {
   "cell_type": "code",
   "execution_count": null,
   "metadata": {},
   "outputs": [],
   "source": []
  }
 ],
 "metadata": {
  "kernelspec": {
   "display_name": "Python 3",
   "language": "python",
   "name": "python3"
  },
  "language_info": {
   "codemirror_mode": {
    "name": "ipython",
    "version": 3
   },
   "file_extension": ".py",
   "mimetype": "text/x-python",
   "name": "python",
   "nbconvert_exporter": "python",
   "pygments_lexer": "ipython3",
   "version": "3.11.5"
  },
  "orig_nbformat": 4
 },
 "nbformat": 4,
 "nbformat_minor": 2
}
