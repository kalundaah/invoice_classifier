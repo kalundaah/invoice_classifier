{
 "cells": [
  {
   "cell_type": "markdown",
   "metadata": {},
   "source": [
    "#### Dependencies"
   ]
  },
  {
   "cell_type": "code",
   "execution_count": 1,
   "metadata": {},
   "outputs": [],
   "source": [
    "# !pip install pandas\n",
    "# !pip install numpy\n",
    "# !pip install opencv-python\n",
    "# !pip install pytesseract\n",
    "# !dnf install tesseract-ocr\n",
    "# !dnf install poppler-utils\n",
    "# !pip install -U spacy\n",
    "# !python -m spacy download en_core_web_sm\n",
    "# !pip install fitz\n",
    "# !pip install PyPDF2 pdf2image\n"
   ]
  },
  {
   "cell_type": "markdown",
   "metadata": {},
   "source": [
    "# Creating a model that takes in the images and processes them\n"
   ]
  },
  {
   "cell_type": "markdown",
   "metadata": {},
   "source": [
    "## Image Processing"
   ]
  },
  {
   "cell_type": "markdown",
   "metadata": {},
   "source": [
    "### Collect all PDF's and change them to image format\n"
   ]
  },
  {
   "cell_type": "code",
   "execution_count": 2,
   "metadata": {},
   "outputs": [
    {
     "name": "stdout",
     "output_type": "stream",
     "text": [
      "Image extraction completed.\n"
     ]
    }
   ],
   "source": [
    "import os\n",
    "import glob\n",
    "import PyPDF2\n",
    "from pdf2image import convert_from_path\n",
    "\n",
    "# Path to PDFs\n",
    "directory_path = './Prod files/'\n",
    "\n",
    "# Extension to be captured\n",
    "pdf_extension = '*.pdf'\n",
    "\n",
    "# Create a directory to save the extracted images\n",
    "output_directory = './extracted_images/'\n",
    "os.makedirs(output_directory, exist_ok=True)\n",
    "\n",
    "def extract_images_from_pdf(pdf_path, output_dir):\n",
    "    try:\n",
    "        # Open the PDF file using PyPDF2\n",
    "        with open(pdf_path, 'rb') as pdf_file:\n",
    "            full_name = os.path.basename(pdf_path)\n",
    "            file_name = os.path.splitext(full_name)\n",
    "            pdf_reader = PyPDF2.PdfReader(pdf_file)\n",
    "            num_pages = len(pdf_reader.pages)\n",
    "\n",
    "            # Convert each page of the PDF to images using pdf2image\n",
    "            images = convert_from_path(pdf_path)\n",
    "\n",
    "            for page_num, image in enumerate(images, start=1):\n",
    "                # Save the image as PNG\n",
    "                image_filename = os.path.join(output_dir, f'{file_name[0]}page{page_num}.png')\n",
    "                image.save(image_filename, 'PNG')\n",
    "\n",
    "    except Exception as e:\n",
    "        print(f\"Error extracting images from {pdf_path}: {str(e)}\")\n",
    "\n",
    "# Find PDF files in the directory\n",
    "pdf_files = glob.glob(os.path.join(directory_path, pdf_extension))\n",
    "\n",
    "# Loop through each PDF and extract images\n",
    "for pdf_path in pdf_files:\n",
    "    extract_images_from_pdf(pdf_path, output_directory)\n",
    "\n",
    "print(\"Image extraction completed.\")\n"
   ]
  },
  {
   "cell_type": "markdown",
   "metadata": {},
   "source": [
    "## extract the text from the images"
   ]
  },
  {
   "cell_type": "code",
   "execution_count": 3,
   "metadata": {},
   "outputs": [
    {
     "name": "stdout",
     "output_type": "stream",
     "text": [
      "Image 1\n",
      "Image 2\n",
      "Image 3\n",
      "Image 4\n",
      "Image 5\n",
      "Image 6\n",
      "Image 7\n",
      "Image 8\n",
      "Image 9\n",
      "Image 10\n"
     ]
    }
   ],
   "source": [
    "import pytesseract\n",
    "import cv2\n",
    "import os\n",
    "import glob\n",
    "\n",
    "# Define the directory path where your invoice images are located\n",
    "directory_path = \"./extracted_images/\"\n",
    "\n",
    "# Extensions to be captured\n",
    "image_extensions = ['*.jpg', '*.png']\n",
    "\n",
    "# List to store the captured data\n",
    "image_data = []\n",
    "\n",
    "i = 0\n",
    "\n",
    "# Tesseract configuration options (you can customize these)\n",
    "custom_config = r'--oem 3 --psm 6'\n",
    "\n",
    "for extension in image_extensions:\n",
    "    pattern = os.path.join(directory_path, extension)\n",
    "    image_files = glob.glob(pattern)\n",
    "    for img_path in image_files:\n",
    "        full_name = os.path.basename(img_path)\n",
    "        file_name = os.path.splitext(full_name)\n",
    "\n",
    "        # Load image\n",
    "        img = cv2.imread(img_path)\n",
    "\n",
    "        # Convert image to grayscale\n",
    "        gray = cv2.cvtColor(img, cv2.COLOR_BGR2GRAY)\n",
    "\n",
    "        # Apply threshold to convert to binary image\n",
    "        threshold_img = cv2.threshold(gray, 0, 255, cv2.THRESH_BINARY + cv2.THRESH_OTSU)[1]\n",
    "\n",
    "        # Additional pre-processing steps can be added here (e.g., resizing, denoising)\n",
    "\n",
    "        # Pass the pre-processed image through pytesseract with custom config\n",
    "        text = pytesseract.image_to_string(threshold_img, config=custom_config, lang='eng')\n",
    "\n",
    "        name = file_name[0]\n",
    "\n",
    "        # Print the extracted text\n",
    "        image_data.append([name, text])\n",
    "        i += 1\n",
    "        print('Image', i)\n"
   ]
  },
  {
   "cell_type": "markdown",
   "metadata": {},
   "source": [
    "## Save the extracted text in a df "
   ]
  },
  {
   "cell_type": "code",
   "execution_count": 4,
   "metadata": {},
   "outputs": [],
   "source": [
    "import pandas as pd\n",
    "text = pd.DataFrame(image_data,columns=(\"image_name\",\"text\"))\n",
    "text.to_csv(\"./Prod files/extracted_text.csv\")\n",
    "text.to_json(\"./Prod files/extracted_text.json\")"
   ]
  },
  {
   "cell_type": "markdown",
   "metadata": {},
   "source": [
    "## Begin the Training process"
   ]
  },
  {
   "cell_type": "markdown",
   "metadata": {},
   "source": [
    "### This also entails analysing your data and understanding it"
   ]
  },
  {
   "cell_type": "markdown",
   "metadata": {},
   "source": [
    "### The formats of the extracted photos look as follows"
   ]
  },
  {
   "cell_type": "markdown",
   "metadata": {},
   "source": [
    "#### Jumra Format:\n",
    "Paid doc : A/P\n",
    "\n",
    "Doc No : Credit memo/Invoice\n",
    "\n",
    "Date: dd/mm/yy\n",
    "\n",
    "Invoice amount : +/- Numbers\n",
    "\n",
    "Witheld: +/- Numbers\n",
    "\n",
    "Amt : +/- Numbers\n",
    "\n",
    "outstanding: +/- Numbers\n",
    "\n",
    "\n",
    "Document amount due: KES Numbers\n",
    "\n",
    "Total amount due: KES Numbers\n",
    "\n",
    "\n",
    "Account Name: Bank name\n",
    "\n",
    "Transfer date: dd/mm/yy\n",
    "\n",
    "reference: rtgs\n",
    "\n",
    "Amount: Numbers\n",
    "\n",
    "\n",
    "Bank transfer total: KES Numbers\n"
   ]
  },
  {
   "cell_type": "markdown",
   "metadata": {},
   "source": [
    "## Creating mock entries for the data"
   ]
  },
  {
   "cell_type": "markdown",
   "metadata": {},
   "source": [
    "### Dependencies"
   ]
  },
  {
   "cell_type": "code",
   "execution_count": 7,
   "metadata": {},
   "outputs": [],
   "source": [
    "import random\n",
    "from faker import Faker\n",
    "faker = Faker()"
   ]
  },
  {
   "cell_type": "markdown",
   "metadata": {},
   "source": [
    "### Chandarana"
   ]
  },
  {
   "cell_type": "markdown",
   "metadata": {},
   "source": [
    "#### Chandarana Format:\n",
    "Doc No : Numbers\n",
    "\n",
    "Supplier: Numbers\n",
    "\n",
    "Ref No : KES +/- Numbers\n",
    "\n",
    "Net: KES +/- Numbers\n"
   ]
  },
  {
   "cell_type": "markdown",
   "metadata": {},
   "source": [
    "#### usable functions"
   ]
  },
  {
   "cell_type": "code",
   "execution_count": 12,
   "metadata": {},
   "outputs": [],
   "source": [
    "def supplierrefgen():\n",
    "    year = str(random.randint(2000, 2023))\n",
    "    month = str(random.randint(1, 12))\n",
    "    invnos = str(random.randint(1,100000000))\n",
    "    placer = str(year+month+invnos)\n",
    "    return placer"
   ]
  },
  {
   "cell_type": "code",
   "execution_count": 13,
   "metadata": {},
   "outputs": [],
   "source": [
    "def docnogen():\n",
    "    placer = str(random.randint(1, 1000000))\n",
    "    return placer"
   ]
  },
  {
   "cell_type": "code",
   "execution_count": 14,
   "metadata": {},
   "outputs": [],
   "source": [
    "def grossgen():\n",
    "    currency = \"KES \"\n",
    "    choice =  random.choice([\"-\", \"\"])\n",
    "    amt = str(random.randint(100, 100000))\n",
    "    placer = str(currency+choice+amt)\n",
    "    return placer"
   ]
  },
  {
   "cell_type": "code",
   "execution_count": 15,
   "metadata": {},
   "outputs": [],
   "source": [
    "def netgen():\n",
    "    currency = \"KES -\"\n",
    "    amt = str(random.randint(100, 100000))\n",
    "    placer = str(currency+amt)\n",
    "    return placer"
   ]
  },
  {
   "cell_type": "markdown",
   "metadata": {},
   "source": [
    "#### Creating mock data"
   ]
  },
  {
   "cell_type": "code",
   "execution_count": 32,
   "metadata": {},
   "outputs": [
    {
     "name": "stdout",
     "output_type": "stream",
     "text": [
      "Finished\n"
     ]
    }
   ],
   "source": [
    "import pandas as pd\n",
    "from faker import Faker\n",
    "import random\n",
    "\n",
    "# Initialize Faker\n",
    "fake = Faker()\n",
    "\n",
    "# Initialize empty lists to store mock data\n",
    "mock_invoices = []\n",
    "\n",
    "# Labels list\n",
    "labels =[]\n",
    "i = 0\n",
    "# Generate and store 1000 mock invoices\n",
    "for i in range(1000):\n",
    "    # Generate random data for labels\n",
    "\n",
    "    \n",
    "    # Generate the invoice text with labels and multiple rows\n",
    "    rows = []\n",
    "    for _ in range(50):  # Generate 50 rows\n",
    "        docno = docnogen()\n",
    "        supplier_ref = supplierrefgen()\n",
    "        gross = grossgen()\n",
    "        net = netgen()\n",
    "        row = f\"{docno} {supplier_ref} {gross} {net}\"\n",
    "        rows.append(row)\n",
    "        labels.append([i+1,docno,supplier_ref,gross,net])\n",
    "    newline = \"\\n\\t\"\n",
    "    \n",
    "\n",
    "    invoice_text = f\"\"\"\n",
    "    Remittance Advice - Chandarana Dec 21page1,\"CHANDARANA SUPERMARKET LTD\n",
    "    30386 Paid By: Accounts\n",
    "    KENYA\n",
    "\n",
    "    REMITTANCE ADVICE 1149720 Original\n",
    "    Ht [Date [Paid Doc. | Doc. No. Supplier Ref No Gross Amount Net Amount\n",
    "    {newline.join(rows)} \n",
    "    KES 11,891,067.58 KES 9,030.65] KES 11,882,036.93\n",
    "    Transfer Date: Bank Trans. Total: KES 11,882,036.93\n",
    "    18/01/2022\n",
    "    Total Amount: KES 11,882,036.93\n",
    "    Name Of Collector / ID Date Collected Signature of Vendor |\n",
    "    \"\"\"\n",
    "    \n",
    "    # Append the generated invoice text to the list\n",
    "    mock_invoices.append([i+1, invoice_text])\n",
    "    i=i+1\n",
    "\n",
    "# Print the first mock invoice for reference (will use the list index for id)\n",
    "# print(mock_invoices[0])\n",
    "print(\"Finished\")\n",
    "\n",
    "# Create a DataFrame from the mock invoices list\n",
    "chandaranamockdf = pd.DataFrame(mock_invoices, columns=(\"id\", \"sentence\"))\n",
    "\n",
    "# You can also save the labels (docno, supplier_ref, gross, net) in a separate DataFrame if needed.\n",
    "chandaranalabel = pd.DataFrame(labels,columns=(\"id\",\"document_no\",\"supplier_ref\",\"gross\",\"net\"))\n"
   ]
  },
  {
   "cell_type": "code",
   "execution_count": 33,
   "metadata": {},
   "outputs": [],
   "source": [
    "chandaranalabel.to_csv(\"./Prod files/chandaranalabels.csv\",index=False)\n",
    "chandaranamockdf.to_csv('./Prod files/chandaranamock.csv', index=False)"
   ]
  },
  {
   "cell_type": "markdown",
   "metadata": {},
   "source": [
    "### Carrefour"
   ]
  },
  {
   "cell_type": "markdown",
   "metadata": {},
   "source": [
    "#### Carrefour Format:\n",
    "Company Name : Name\n",
    "\n",
    "Inv Nos : Nos/Let/let\n",
    "\n",
    "Date: dd-mm-yy\n",
    "\n",
    "Remarks : Numbers/DEFAULT AGREEMENT\n",
    "\n",
    "Amt: Number +/-\n",
    "\n",
    "Company_name Total : Numbers\n",
    "            "
   ]
  },
  {
   "cell_type": "code",
   "execution_count": 113,
   "metadata": {},
   "outputs": [],
   "source": [
    "from faker import Faker\n",
    "import random\n",
    "faker = Faker()\n",
    "\n",
    "def companygen():\n",
    "    name = faker.company()\n",
    "    return name\n"
   ]
  },
  {
   "cell_type": "code",
   "execution_count": 114,
   "metadata": {},
   "outputs": [],
   "source": [
    "def invgen():\n",
    "\n",
    "    def chance1():\n",
    "        front = str(random.randint(10000000, 99999999))\n",
    "        # Generate two random uppercase letters\n",
    "        letters = ''.join(random.choice('ABCDEFGHIJKLMNOPQRSTUVWXYZ') for _ in range(2))\n",
    "        \n",
    "        # Generate a random number between 10000 and 99999\n",
    "        number = str(random.randint(0, 9))\n",
    "\n",
    "        last = ''.join(random.choice('ABCDEFGHIJKLMNOPQRSTUVWXYZ') for _ in range(3))\n",
    "        \n",
    "        # Concatenate the letters and number to create the invoice number\n",
    "        invoice_number = f\"{front}/{letters}{number}/{last}\"\n",
    "        return invoice_number\n",
    "    \n",
    "    def chance2():\n",
    "        front = str(random.randint(10000000, 99999999))\n",
    "        invoice_number = f\"{front}\"\n",
    "        return invoice_number\n",
    "    \n",
    "    inv1 = chance1()\n",
    "    inv2 = chance2()\n",
    "    invresult = random.choice([inv1,inv2])\n",
    "    \n",
    "    placer = ''.join(invresult)\n",
    "    return placer\n",
    "\n"
   ]
  },
  {
   "cell_type": "code",
   "execution_count": 115,
   "metadata": {},
   "outputs": [],
   "source": [
    "def dategen():\n",
    "    day = str(random.randint(1, 28))\n",
    "    month= str(random.randint(1, 12))\n",
    "    year = str(random.randint(2000, 2040))\n",
    "    placer = f\"{day}-{month}-{year}\"\n",
    "    return placer\n"
   ]
  },
  {
   "cell_type": "code",
   "execution_count": 116,
   "metadata": {},
   "outputs": [],
   "source": [
    "def remarksgen():\n",
    "    percentage = str(random.randint(0, 100))\n",
    "    numbers = str(random.randint(1, 3))\n",
    "    numbers2 = str(random.randint(100, 199))\n",
    "    choice1 = f\"DEFAULT AGREEMENT ({percentage}%) 00{numbers} {numbers2}\"\n",
    "    choice2 = \"DEFAULT AGREEMENT (EXEMPTED)\"\n",
    "    remark = random.choice([choice1,choice2])\n",
    "    placer = random.choice([remark,\"\"])\n",
    "    return placer\n",
    "\n",
    "\n",
    " "
   ]
  },
  {
   "cell_type": "code",
   "execution_count": 117,
   "metadata": {},
   "outputs": [],
   "source": [
    "def amountgen():\n",
    "    value = str(random.randint(100, 10000))\n",
    "    return value"
   ]
  },
  {
   "cell_type": "code",
   "execution_count": 118,
   "metadata": {},
   "outputs": [],
   "source": [
    "def totalgen():\n",
    "    value = str(random.randint(10000, 999999))\n",
    "    return value"
   ]
  },
  {
   "cell_type": "code",
   "execution_count": null,
   "metadata": {},
   "outputs": [],
   "source": [
    "# Payment Attachment Page - 1\n",
    "# Payment No. : 130595\n",
    "# AICNo: 2298452 UNGALIMITED Payment Dt.: 28-02-22\n",
    "# ee AMoUNtPaid =\n",
    "# Company Invoice Number Invoice Date Remarks\n",
    "# (KES)\n",
    "# HM KE NAI Two Rivers\n",
    "# 22500434/KN2/GRA 14-02-22 22602305 1,661.41-\n",
    "# 22500489/KN2/GRA, 19-02-22 22602675 1,205.48-\n",
    "# 22500507/KN2/GRA, 21-02-22 22602776 447.08-\n",
    "# 22CKRIV1032 24-02-22 DEFAULT AGREEMENT (0%) 003 101,797.18-\n",
    "# 910073512 24-01-22 294,596.72 M\n",
    "# 910073889 05-02-22 141,768.08\n",
    "# 910073949 08-02-22 327,498.64\n",
    "# HMKENAITwoRivers Total : 658,752.29\n",
    "# HM KE NAI Nairobi Hub\n",
    "# 22500678/KNI/GRA 19-02-22 22602779 2,677.26-\n",
    "# 22500714/KNI/GRA, 22-02-22 22602976 1,471.37-\n",
    "# 22500763/KNI/GRA, 25-02-22 22603174 1,645.90-\n",
    "# 22CKHUB1032 24-02-22 DEFAULT AGREEMENT (0%) 003 113,329.14-\n",
    "# 9100074057 11-02-22 149,280.00\n",
    "# 910073715 01-02-22 163,098.24\n",
    "# 910073718 01-02-22 56,466.69\n",
    "# 910073828 04-02-22 147,383.28\n",
    "# 910073833 04-02-22 173,382.20\n",
    "# 910073953 08-02-22 82,926.01\n",
    "# 910074056 11-02-22 169,472.83\n",
    "# HMKENAINairobi Hub Total : 822,885.58\n",
    "# HM KE NAI SouthField\n",
    "# 22500223/KSOF/GRA 15-02-22 22600805 2,777.47-\n",
    "# 22CKSOF1032 24-02-22. DEFAULT AGREEMENT (EXEMPTED) 31,452.16-\n",
    "# 910073722 01-02-22 82,915.42\n",
    "# HMKENAISouthField Total : 48,685.79\n",
    "# HM KE NAITRM\n",
    "# 22500303/KN3/GRA 14-02-22 22601520 1,972.07-\n",
    "# 22500324/KN3/GRA, 16-02-22 22601677 3,194.04-\n",
    "# 22CKTRM1032 24-02-22 DEFAULT AGREEMENT (16%) 001 74,073.61-\n",
    "# 910073785 03-02-22 247,323.47\n",
    "# 910073909 07-02-22 72,877.64\n",
    "# 910074008 10-02-22 269,712.52\n",
    "# HM KE NAITRM Total : 510,673.91\n",
    "# HM KE NAI MEGA\n",
    "# 22500527/KN8/GRA 19-02-22 22602325 7,142.66-\n",
    "# 22500546/KN8/GRA, 22-02-22 22602469 1,021.53-\n",
    "# 22CKMEG1032 24-02-22 DEFAULT AGREEMENT (16%) 001 85,554.36-\n",
    "# 910067457 04-02-22 114,916.26\n",
    "# 910073716 01-02-22 177,541.51\n",
    "# 910073827 04-02-22 351,775.77\n",
    "# 910074046 11-02-22 422,437.51\n",
    "# HM KE NAI MEGA Total : 972,952.50\n",
    "# HM KE NAI Galleria\n",
    "# 22500756/KN6/GRA 18-02-22 22602300 2,899.23-\n",
    "# 22500806/KN6/GRA, 22-02-22 22602474 1,157.75-\n",
    "# 22500872/KN6/GRA, 26-02-22 22602692 1,386.26-\n",
    "# 22CKGLR1032 24-02-22 DEFAULT AGREEMENT (0%) 003 79,047.19-\n",
    "# 910073831 04-02-22 69,585.00\n",
    "# 910073908 07-02-22 143,675.96\n",
    "# 2250046 1/KN7/GRA, 15-02-22 22601801 785.56-\n",
    "# 22500518/KN7/GRA, 18-02-22 22601978 297.66-\n",
    "# 22500622/KN7/GRA, 25-02-22 22602338 1,369.62-\n",
    "# 22CXVLM1032 24-02-22 DEFAULT AGREEMENT (0%) 003 43,039.77-\n",
    "# 910073830 05-02-22 110,710.48\n",
    "# 910073951 08-02-22 99,921.60\n",
    "# SM KE NAI Village Market Total : 165,139.47\n",
    "# SM KE Mom Nyali Complex\n",
    "# 22CXNCM1032 24-02-22. DEFAULT AGREEMENT (0%) 003 62,186.13-\n",
    "# 910073800 04-02-22 341,123.46\n",
    "# SM KE Mom Nyali Complex Total : 278,937.33\n",
    "# SM KE Mom Diani\n",
    "# 22CXDIN1032 24-02-22. DEFAULT AGREEMENT (0%) 003 52,042.21-\n",
    "# 910073720 02-02-22 9,947.00\n",
    "# SM KE Mom Diani Total : 42,095.21-\n",
    "# UNGA LIMITED Total : $,898,752.53"
   ]
  },
  {
   "cell_type": "code",
   "execution_count": 124,
   "metadata": {},
   "outputs": [
    {
     "name": "stdout",
     "output_type": "stream",
     "text": [
      "Finished\n"
     ]
    }
   ],
   "source": [
    "import pandas as pd\n",
    "from faker import Faker\n",
    "import random\n",
    "\n",
    "# Initialize Faker\n",
    "fake = Faker()\n",
    "\n",
    "# Initialize empty lists to store mock data\n",
    "mock_invoices = []\n",
    "\n",
    "# Labels list\n",
    "invlabels =[]\n",
    "totallabels = []\n",
    "i = 0\n",
    "# Generate and store 1000 mock invoices\n",
    "for i in range(1000):\n",
    "    # Generate random data for labels\n",
    "\n",
    "    \n",
    "    # Generate the invoice text with labels and multiple rows\n",
    "    rows = []\n",
    "    for _ in range(50):  # Generate 50 rows\n",
    "        companyname = companygen()\n",
    "        total = totalgen()\n",
    "        row = f\"{companyname}\"\n",
    "        rows.append(row)\n",
    "        for _ in range(10):\n",
    "            invnos = invgen()\n",
    "            date = dategen()\n",
    "            remark = remarksgen()\n",
    "            amt = amountgen()\n",
    "            row = f\"{invnos} {date} {remark} {amt}\"\n",
    "            rows.append(row)\n",
    "            invlabels.append([i+1,companyname,invnos,date,remark,amt])\n",
    "        row = f\"{companyname} Total : {total}\"\n",
    "        rows.append(row)\n",
    "        totallabels.append([i+1,companyname,total])\n",
    "    newline = \"\\n\\t\"\n",
    "    \n",
    "\n",
    "    invoice_text = f\"\"\"\n",
    "    Payment Attachment Page - 1\n",
    "    Payment No. : 130595\n",
    "    AICNo: 2298452 UNGALIMITED Payment Dt.: 28-02-22\n",
    "    ee AMoUNtPaid =\n",
    "    Company Invoice Number Invoice Date Remarks\n",
    "    (KES)\n",
    "    {newline.join(rows)} \n",
    "    UNGA LIMITED Total : $,898,752.53\n",
    "    \"\"\"\n",
    "    \n",
    "    # Append the generated invoice text to the list\n",
    "    mock_invoices.append([i+1, invoice_text])\n",
    "    i = i + 1\n",
    "    \n",
    "\n",
    "# Print the first mock invoice for reference (will use the list index for id)\n",
    "# print(mock_invoices[0])\n",
    "print(\"Finished\")\n",
    "\n",
    "# Create a DataFrame from the mock invoices list\n",
    "carrefourmockdf = pd.DataFrame(mock_invoices, columns=(\"id\", \"sentence\"))\n",
    "\n",
    "# You can also save the labels (docno, supplier_ref, gross, net) in a separate DataFrame if needed.\n",
    "carrefourlabel = pd.DataFrame(labels,columns=(\"id\",\"document_no\",\"supplier_ref\",\"gross\",\"net\"))\n"
   ]
  },
  {
   "cell_type": "code",
   "execution_count": 125,
   "metadata": {},
   "outputs": [],
   "source": [
    "carrefourlabel.to_csv(\"./Prod files/carrefourlabels.csv\",index=False)\n",
    "carrefourmockdf.to_csv('./Prod files/carrefourmock.csv', index=False)"
   ]
  }
 ],
 "metadata": {
  "kernelspec": {
   "display_name": "Python 3",
   "language": "python",
   "name": "python3"
  },
  "language_info": {
   "codemirror_mode": {
    "name": "ipython",
    "version": 3
   },
   "file_extension": ".py",
   "mimetype": "text/x-python",
   "name": "python",
   "nbconvert_exporter": "python",
   "pygments_lexer": "ipython3",
   "version": "3.11.5"
  },
  "orig_nbformat": 4
 },
 "nbformat": 4,
 "nbformat_minor": 2
}
