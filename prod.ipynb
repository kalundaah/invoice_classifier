{
 "cells": [
  {
   "cell_type": "markdown",
   "metadata": {},
   "source": [
    "#### Dependencies"
   ]
  },
  {
   "cell_type": "code",
   "execution_count": null,
   "metadata": {},
   "outputs": [],
   "source": [
    "!pip install pandas\n",
    "!pip install numpy\n",
    "!pip install opencv-python\n",
    "!pip install pytesseract\n",
    "!dnf install tesseract-ocr\n",
    "!dnf install poppler-utils\n",
    "!pip install -U spacy\n",
    "!python -m spacy download en_core_web_sm"
   ]
  },
  {
   "cell_type": "markdown",
   "metadata": {},
   "source": [
    "# Creating a model that takes in the images and processes them\n"
   ]
  },
  {
   "cell_type": "markdown",
   "metadata": {},
   "source": [
    "## Image Processing"
   ]
  },
  {
   "cell_type": "markdown",
   "metadata": {},
   "source": [
    "### Collect all PDF's and change them to image format\n"
   ]
  },
  {
   "cell_type": "code",
   "execution_count": null,
   "metadata": {},
   "outputs": [],
   "source": [
    "import os\n",
    "import glob\n",
    "import cv2\n",
    "import pytesseract\n",
    "\n",
    "\n",
    "# Path to pdfs\n",
    "directory_path = './Prod files'\n",
    "\n",
    "# Extensions to be captured\n",
    "image_extensions = '*.png'\n",
    "\n",
    "# list to store the captured data\n",
    "image_data = []\n",
    "\n",
    "i = 0\n",
    "\n",
    "for extension in image_extensions:\n",
    "    pattern = os.path.join(directory_path, extension)\n",
    "    image_files = glob.glob(pattern)\n",
    "    for img_path in image_files:\n",
    "      full_name = os.path.basename(img_path)\n",
    "      file_name = os.path.splitext(full_name)\n",
    "      \n",
    "\n"
   ]
  }
 ],
 "metadata": {
  "language_info": {
   "name": "python"
  },
  "orig_nbformat": 4
 },
 "nbformat": 4,
 "nbformat_minor": 2
}
