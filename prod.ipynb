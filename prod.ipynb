{
 "cells": [
  {
   "cell_type": "markdown",
   "metadata": {},
   "source": [
    "#### Dependencies"
   ]
  },
  {
   "cell_type": "code",
   "execution_count": 19,
   "metadata": {},
   "outputs": [],
   "source": [
    "# !pip install pandas\n",
    "# !pip install numpy\n",
    "# !pip install opencv-python\n",
    "# !pip install pytesseract\n",
    "# !dnf install tesseract-ocr\n",
    "# !dnf install poppler-utils\n",
    "# !pip install -U spacy\n",
    "# !python -m spacy download en_core_web_sm\n",
    "# !pip install fitz\n",
    "# !pip install PyPDF2 pdf2image\n"
   ]
  },
  {
   "cell_type": "markdown",
   "metadata": {},
   "source": [
    "# Creating a model that takes in the images and processes them\n"
   ]
  },
  {
   "cell_type": "markdown",
   "metadata": {},
   "source": [
    "## Image Processing"
   ]
  },
  {
   "cell_type": "markdown",
   "metadata": {},
   "source": [
    "### Collect all PDF's and change them to image format\n"
   ]
  },
  {
   "cell_type": "code",
   "execution_count": 20,
   "metadata": {},
   "outputs": [
    {
     "name": "stdout",
     "output_type": "stream",
     "text": [
      "Image extraction completed.\n"
     ]
    }
   ],
   "source": [
    "import os\n",
    "import glob\n",
    "import PyPDF2\n",
    "from pdf2image import convert_from_path\n",
    "\n",
    "# Path to PDFs\n",
    "directory_path = './Prod files/'\n",
    "\n",
    "# Extension to be captured\n",
    "pdf_extension = '*.pdf'\n",
    "\n",
    "# Create a directory to save the extracted images\n",
    "output_directory = './extracted_images/'\n",
    "os.makedirs(output_directory, exist_ok=True)\n",
    "\n",
    "def extract_images_from_pdf(pdf_path, output_dir):\n",
    "    try:\n",
    "        # Open the PDF file using PyPDF2\n",
    "        with open(pdf_path, 'rb') as pdf_file:\n",
    "            full_name = os.path.basename(pdf_path)\n",
    "            file_name = os.path.splitext(full_name)\n",
    "            pdf_reader = PyPDF2.PdfReader(pdf_file)\n",
    "            num_pages = len(pdf_reader.pages)\n",
    "\n",
    "            # Convert each page of the PDF to images using pdf2image\n",
    "            images = convert_from_path(pdf_path)\n",
    "\n",
    "            for page_num, image in enumerate(images, start=1):\n",
    "                # Save the image as PNG\n",
    "                image_filename = os.path.join(output_dir, f'{file_name[0]}page{page_num}.png')\n",
    "                image.save(image_filename, 'PNG')\n",
    "\n",
    "    except Exception as e:\n",
    "        print(f\"Error extracting images from {pdf_path}: {str(e)}\")\n",
    "\n",
    "# Find PDF files in the directory\n",
    "pdf_files = glob.glob(os.path.join(directory_path, pdf_extension))\n",
    "\n",
    "# Loop through each PDF and extract images\n",
    "for pdf_path in pdf_files:\n",
    "    extract_images_from_pdf(pdf_path, output_directory)\n",
    "\n",
    "print(\"Image extraction completed.\")\n"
   ]
  },
  {
   "cell_type": "markdown",
   "metadata": {},
   "source": [
    "## extract the text from the images"
   ]
  },
  {
   "cell_type": "code",
   "execution_count": 21,
   "metadata": {},
   "outputs": [
    {
     "name": "stdout",
     "output_type": "stream",
     "text": [
      "Image 1\n",
      "Image 2\n",
      "Image 3\n",
      "Image 4\n",
      "Image 5\n",
      "Image 6\n",
      "Image 7\n",
      "Image 8\n",
      "Image 9\n",
      "Image 10\n"
     ]
    }
   ],
   "source": [
    "import pytesseract\n",
    "import cv2\n",
    "import os\n",
    "import glob\n",
    "\n",
    "# Define the directory path where your invoice images are located\n",
    "directory_path = \"./extracted_images/\"\n",
    "\n",
    "# Extensions to be captured\n",
    "image_extensions = ['*.jpg', '*.png']\n",
    "\n",
    "# List to store the captured data\n",
    "image_data = []\n",
    "\n",
    "i = 0\n",
    "\n",
    "# Tesseract configuration options (you can customize these)\n",
    "custom_config = r'--oem 3 --psm 6'\n",
    "\n",
    "for extension in image_extensions:\n",
    "    pattern = os.path.join(directory_path, extension)\n",
    "    image_files = glob.glob(pattern)\n",
    "    for img_path in image_files:\n",
    "        full_name = os.path.basename(img_path)\n",
    "        file_name = os.path.splitext(full_name)\n",
    "\n",
    "        # Load image\n",
    "        img = cv2.imread(img_path)\n",
    "\n",
    "        # Convert image to grayscale\n",
    "        gray = cv2.cvtColor(img, cv2.COLOR_BGR2GRAY)\n",
    "\n",
    "        # Apply threshold to convert to binary image\n",
    "        threshold_img = cv2.threshold(gray, 0, 255, cv2.THRESH_BINARY + cv2.THRESH_OTSU)[1]\n",
    "\n",
    "        # Additional pre-processing steps can be added here (e.g., resizing, denoising)\n",
    "\n",
    "        # Pass the pre-processed image through pytesseract with custom config\n",
    "        text = pytesseract.image_to_string(threshold_img, config=custom_config, lang='eng')\n",
    "\n",
    "        name = file_name[0]\n",
    "\n",
    "        # Print the extracted text\n",
    "        image_data.append([name, text])\n",
    "        i += 1\n",
    "        print('Image', i)\n"
   ]
  },
  {
   "cell_type": "markdown",
   "metadata": {},
   "source": [
    "## Save the extracted text in a df "
   ]
  },
  {
   "cell_type": "code",
   "execution_count": 22,
   "metadata": {},
   "outputs": [],
   "source": [
    "import pandas as pd\n",
    "text = pd.DataFrame(image_data,columns=(\"image_name\",\"text\"))\n",
    "text.to_csv(\"./Prod files/extracted_text.csv\")"
   ]
  },
  {
   "cell_type": "markdown",
   "metadata": {},
   "source": [
    "## Begin the Training process"
   ]
  },
  {
   "cell_type": "code",
   "execution_count": null,
   "metadata": {},
   "outputs": [],
   "source": []
  }
 ],
 "metadata": {
  "kernelspec": {
   "display_name": "Python 3",
   "language": "python",
   "name": "python3"
  },
  "language_info": {
   "codemirror_mode": {
    "name": "ipython",
    "version": 3
   },
   "file_extension": ".py",
   "mimetype": "text/x-python",
   "name": "python",
   "nbconvert_exporter": "python",
   "pygments_lexer": "ipython3",
   "version": "3.11.5"
  },
  "orig_nbformat": 4
 },
 "nbformat": 4,
 "nbformat_minor": 2
}
