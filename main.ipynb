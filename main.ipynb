{
 "cells": [
  {
   "cell_type": "markdown",
   "metadata": {},
   "source": [
    "# An invoice classifier"
   ]
  },
  {
   "cell_type": "markdown",
   "metadata": {},
   "source": [
    "### This application is used to take in a pdf from a user and classify it according to the sender of the pdf, its category/type of invoice and type/category of goods administered"
   ]
  },
  {
   "cell_type": "markdown",
   "metadata": {},
   "source": [
    "First of all is to acknowledge the type of formats that can come from the user as an input. The input(invoice) can come as one in two formats (*image or pdf*). The application should be able to take in any of the two formats."
   ]
  },
  {
   "cell_type": "markdown",
   "metadata": {},
   "source": [
    "In this context, we are to set the targets locally since there is an assumption that their is a use of a webiste for uploading the target. Without the website, the files will be locally stored in this repository for analysis."
   ]
  }
 ],
 "metadata": {
  "language_info": {
   "name": "python"
  },
  "orig_nbformat": 4
 },
 "nbformat": 4,
 "nbformat_minor": 2
}
