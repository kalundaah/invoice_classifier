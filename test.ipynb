{
 "cells": [
  {
   "cell_type": "markdown",
   "metadata": {},
   "source": [
    "# This is now testing the best model out of the Spacy Fine tune"
   ]
  },
  {
   "cell_type": "markdown",
   "metadata": {},
   "source": [
    "## Setting up the local model"
   ]
  },
  {
   "cell_type": "code",
   "execution_count": 8,
   "metadata": {},
   "outputs": [],
   "source": [
    "import spacy\n",
    "\n",
    "model_path = 'newmodel/model-best'\n",
    "\n",
    "# Load the custom spaCy model\n",
    "nlp = spacy.load(model_path)\n"
   ]
  },
  {
   "cell_type": "markdown",
   "metadata": {},
   "source": [
    "## Generating random data"
   ]
  },
  {
   "cell_type": "code",
   "execution_count": 9,
   "metadata": {},
   "outputs": [
    {
     "name": "stdout",
     "output_type": "stream",
     "text": [
      "Finished\n"
     ]
    }
   ],
   "source": [
    "import pandas as pd\n",
    "import random\n",
    "from faker import Faker\n",
    "faker = Faker()\n",
    "\n",
    "# Initialize empty lists to store mock data and labels\n",
    "mock = []\n",
    "mock_labels = []\n",
    "i = 0\n",
    "# Generate and store 300 mock invoices\n",
    "while i < 1000:\n",
    "    name = faker.name()\n",
    "    street = faker.street_address()\n",
    "    city = faker.city()\n",
    "    state = faker.state()\n",
    "    zip = faker.zipcode()\n",
    "    word1 = faker.word()\n",
    "    choice1 = random.choice([\"Laptop\", \"Smartphone\", \"Tablet\", \"Monitor\", \"Keyboard\"])\n",
    "    make1= random.choice([\"X1\", \"S3\", \"T5\", \"M2\", \"K4\"])\n",
    "    word2 = faker.word()\n",
    "    choice2 = random.choice([\"Headphones\", \"Mouse\", \"Printer\", \"Scanner\", \"Webcam\"])\n",
    "    make2=random.choice([\"H6\", \"M3\", \"P2\", \"S4\", \"W1\"])\n",
    "    invnos = random.randint(100, 999)\n",
    "    invmonth =  random.randint(1, 12)\n",
    "    invday = random.randint(1, 28)\n",
    "    duemonth =  random.randint(1, 12)\n",
    "    dueday = random.randint(1, 28)\n",
    "    balance = random.uniform(100, 999999999)\n",
    "    year = 2023\n",
    "    invoice_text = f\"\"\"\n",
    "    Dear Customer,\n",
    "\n",
    "    Invoice Number: INV-2023-{invnos}\n",
    "    Invoice Date: 2023-{invmonth}-{invday}\n",
    "    Due Date: 2023-{duemonth}-{dueday}\n",
    "\n",
    "    Billing Information:\n",
    "    Recipient Name: {name}\n",
    "    Recipient Address: {street}, {city}, {state} {zip}\n",
    "\n",
    "    Product Details:\n",
    "    - Description: {word1} {choice1} {make1}\n",
    "      Quantity: {random.randint(1, 5)}\n",
    "      Unit Price: ${random.uniform(50, 1000):.2f}\n",
    "    - Description: {word2} {choice2} {make2}\n",
    "      Quantity: {random.randint(1, 5)}\n",
    "      Unit Price: ${random.uniform(10, 200):.2f}\n",
    "\n",
    "    Balance Due: ${balance}\n",
    "\n",
    "    Thank you for your business!\n",
    "    \"\"\"\n",
    "\n",
    "    # Append the generated invoice text to the mock list\n",
    "    mock.append([i+1,invoice_text])\n",
    "    mock_labels.append([1+1,name,f\"{street},{city},{state},{zip}\",f\"INV-2023-{invnos}\",f\"{year}-{invmonth}-{invday}\",f\"{year}-{duemonth}-{dueday}\",balance])\n",
    "    i=i+1\n",
    "\n",
    "# Print the first mock invoice and its labels for reference (will use the list indexes for id)\n",
    "# print(mock[0])\n",
    "# print(mock_labels[0])\n",
    "print(\"Finished\")\n",
    "mockdf = pd.DataFrame(mock,columns=(\"id\",'sentence'))\n",
    "mocklabelsdf = pd.DataFrame(mock_labels,columns=('id',\"name\",\"address\",\"invoicenumber\",\"invoicedate\",\"duedate\",\"balance\"))\n",
    "\n"
   ]
  },
  {
   "cell_type": "code",
   "execution_count": 23,
   "metadata": {},
   "outputs": [
    {
     "data": {
      "text/plain": [
       "'\\n    Dear Customer,\\n\\n    Invoice Number: INV-2023-119\\n    Invoice Date: 2023-6-26\\n    Due Date: 2023-11-27\\n\\n    Billing Information:\\n    Recipient Name: Angela Johnson\\n    Recipient Address: 150 Sandra Stream Suite 584, South Shawn, Arkansas 03916\\n\\n    Product Details:\\n    - Description: establish Tablet M2\\n      Quantity: 1\\n      Unit Price: $299.30\\n    - Description: share Mouse P2\\n      Quantity: 1\\n      Unit Price: $64.54\\n\\n    Balance Due: $761359898.8424644\\n\\n    Thank you for your business!\\n    '"
      ]
     },
     "execution_count": 23,
     "metadata": {},
     "output_type": "execute_result"
    }
   ],
   "source": [
    "mock"
   ]
  },
  {
   "cell_type": "markdown",
   "metadata": {},
   "source": [
    "## Running 1000 entries "
   ]
  },
  {
   "cell_type": "code",
   "execution_count": 20,
   "metadata": {},
   "outputs": [],
   "source": [
    "combined = []\n",
    "\n",
    "i = 0 \n",
    "while i < (len(mockdf)):\n",
    "    # Process text using the loaded model\n",
    "    tokenlist = []\n",
    "    entitylist = []\n",
    "    text = mockdf['sentence'][i]\n",
    "    doc = nlp(text)\n",
    "    # # Access token-level information\n",
    "    # for token in doc:\n",
    "    #     tokenlist.append([token.text, token.pos_])\n",
    "\n",
    "    # Access named entities\n",
    "    for ent in doc.ents:\n",
    "        entitylist.append([ent.text, ent.label_])\n",
    "    combined.append([i+1,[entitylist]])\n",
    "    i = i +1"
   ]
  },
  {
   "cell_type": "code",
   "execution_count": 21,
   "metadata": {},
   "outputs": [],
   "source": [
    "results = pd.DataFrame(combined,columns=('id','results'))"
   ]
  },
  {
   "cell_type": "code",
   "execution_count": 22,
   "metadata": {},
   "outputs": [],
   "source": [
    "results.to_json(\"./files/results.json\")\n",
    "results.to_csv(\"./files/results.csv\")"
   ]
  }
 ],
 "metadata": {
  "kernelspec": {
   "display_name": "Python 3",
   "language": "python",
   "name": "python3"
  },
  "language_info": {
   "codemirror_mode": {
    "name": "ipython",
    "version": 3
   },
   "file_extension": ".py",
   "mimetype": "text/x-python",
   "name": "python",
   "nbconvert_exporter": "python",
   "pygments_lexer": "ipython3",
   "version": "3.11.5"
  },
  "orig_nbformat": 4
 },
 "nbformat": 4,
 "nbformat_minor": 2
}
