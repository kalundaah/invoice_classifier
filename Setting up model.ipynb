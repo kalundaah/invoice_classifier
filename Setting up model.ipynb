{
 "cells": [
  {
   "cell_type": "code",
   "execution_count": 43,
   "metadata": {},
   "outputs": [
    {
     "data": {
      "text/html": [
       "<div>\n",
       "<style scoped>\n",
       "    .dataframe tbody tr th:only-of-type {\n",
       "        vertical-align: middle;\n",
       "    }\n",
       "\n",
       "    .dataframe tbody tr th {\n",
       "        vertical-align: top;\n",
       "    }\n",
       "\n",
       "    .dataframe thead th {\n",
       "        text-align: right;\n",
       "    }\n",
       "</style>\n",
       "<table border=\"1\" class=\"dataframe\">\n",
       "  <thead>\n",
       "    <tr style=\"text-align: right;\">\n",
       "      <th></th>\n",
       "      <th>imageid</th>\n",
       "      <th>text</th>\n",
       "      <th>recipient</th>\n",
       "      <th>recipientaddress</th>\n",
       "      <th>invoicenos</th>\n",
       "      <th>invoicedate</th>\n",
       "      <th>duedate</th>\n",
       "      <th>Balance</th>\n",
       "    </tr>\n",
       "  </thead>\n",
       "  <tbody>\n",
       "    <tr>\n",
       "      <th>0</th>\n",
       "      <td>2</td>\n",
       "      <td>Invoice\\n\\nStanford Plumbing &amp; Heating\\nbeotts...</td>\n",
       "      <td>Allen Smith</td>\n",
       "      <td>123 Madison drive Seattle, WA</td>\n",
       "      <td>INVO2081</td>\n",
       "      <td>Jun 14,2018</td>\n",
       "      <td>Jun 19,2018</td>\n",
       "      <td>2,688.00</td>\n",
       "    </tr>\n",
       "  </tbody>\n",
       "</table>\n",
       "</div>"
      ],
      "text/plain": [
       "   imageid                                               text    recipient  \\\n",
       "0        2  Invoice\\n\\nStanford Plumbing & Heating\\nbeotts...  Allen Smith   \n",
       "\n",
       "                recipientaddress invoicenos  invoicedate      duedate  \\\n",
       "0  123 Madison drive Seattle, WA   INVO2081  Jun 14,2018  Jun 19,2018   \n",
       "\n",
       "    Balance  \n",
       "0  2,688.00  "
      ]
     },
     "execution_count": 43,
     "metadata": {},
     "output_type": "execute_result"
    }
   ],
   "source": [
    "import pandas as pd\n",
    "extracted = pd.read_csv(\"./files/extracted_text.csv\")\n",
    "extracted.head(1)"
   ]
  },
  {
   "cell_type": "code",
   "execution_count": 44,
   "metadata": {},
   "outputs": [
    {
     "name": "stdout",
     "output_type": "stream",
     "text": [
      "2\n"
     ]
    }
   ],
   "source": [
    "print(len(extracted))"
   ]
  },
  {
   "cell_type": "code",
   "execution_count": 45,
   "metadata": {},
   "outputs": [
    {
     "name": "stdout",
     "output_type": "stream",
     "text": [
      "finished\n"
     ]
    }
   ],
   "source": [
    "import spacy\n",
    "\n",
    "nlp = spacy.load(\"en_core_web_sm\")\n",
    "corpus = []\n",
    "i=0\n",
    "\n",
    "while i < (len(extracted)):\n",
    "    text = extracted['text'][i]\n",
    "    doc = nlp(text)\n",
    "    for sent in doc.sents:\n",
    "        corpus.append([i+1,sent.text])\n",
    "    i=i+1\n",
    "\n",
    "print(\"finished\")\n",
    "    \n"
   ]
  },
  {
   "cell_type": "code",
   "execution_count": 46,
   "metadata": {},
   "outputs": [
    {
     "name": "stdout",
     "output_type": "stream",
     "text": [
      "[[1, 'Invoice\\n\\nStanford Plumbing & Heating\\nbeottsanforepLamarg cm\\n12s sadiean dre\\nte wh\\n20\\nPhone sib.'], [1, 'ches\\n\\nNumber mncuoe\\n\\nbate junta, 2018\\nbee unt, 2018\\n\\nAllen Smith\\n\\nsma crm\\n\\nBe pwvat\\nte, ws\\n\\name: yf 1920\\n\\nlestlled nave kitchen sine nce suc\\nacc me about ne \"9 aed mn ety plow ana mane 54 ¢~ ens cour tetop\\nroca snk 28 feovee 1 sue\\npearing\\nNese sma thesmnoctat fesoce 1 fasuen\\nne \"222 088,\\n‘worcester Greenscar 3th sramuee 1 stones\\nBrera)\\nsubtotal seanuce\\ncsinss sesuce\\nona seasuce\\nBalance Due $2,688.00\\n\\nNotes\\nease pay vat 20 day by Fay: est@scanfoepLamoig com\\n\\nInark yea for you busiest\\n'], [2, 'Stanford Plumbing & Heating\\n128 Madison drive, Seat, WA, 72290\\nsw olummbingstanosd com\\n\\n‘900-120-4560\\n\\nAllen Sith\\n\\n87 Private Seattle, WA\\nalen@gmailcom\\n9002-1898\\n\\nnea newtehen sk ost]\\n\\nToto aik\\n\\n‘Worcester geereer magne sytem ner\\nNest martthermosta:\\n\\nTank you for your business!\\n\\n'], [2, 'Pease py wt 20'], [2, 's3y20y PayPal feb Getanforplumbing com)\\n\\nINVOICE\\n\\norn unr Price\\n\\nBalance Due\\n\\n$2,808.90\\n']]\n"
     ]
    }
   ],
   "source": [
    "print(corpus)"
   ]
  },
  {
   "cell_type": "code",
   "execution_count": 47,
   "metadata": {},
   "outputs": [],
   "source": [
    "corpusdf = pd.DataFrame(corpus,columns=[\"id\",\"sentence\"])"
   ]
  },
  {
   "cell_type": "code",
   "execution_count": 48,
   "metadata": {},
   "outputs": [
    {
     "data": {
      "text/plain": [
       "id           int64\n",
       "sentence    object\n",
       "dtype: object"
      ]
     },
     "execution_count": 48,
     "metadata": {},
     "output_type": "execute_result"
    }
   ],
   "source": [
    "corpusdf.dtypes\n"
   ]
  },
  {
   "cell_type": "code",
   "execution_count": 49,
   "metadata": {},
   "outputs": [
    {
     "data": {
      "text/html": [
       "<div>\n",
       "<style scoped>\n",
       "    .dataframe tbody tr th:only-of-type {\n",
       "        vertical-align: middle;\n",
       "    }\n",
       "\n",
       "    .dataframe tbody tr th {\n",
       "        vertical-align: top;\n",
       "    }\n",
       "\n",
       "    .dataframe thead th {\n",
       "        text-align: right;\n",
       "    }\n",
       "</style>\n",
       "<table border=\"1\" class=\"dataframe\">\n",
       "  <thead>\n",
       "    <tr style=\"text-align: right;\">\n",
       "      <th></th>\n",
       "      <th>id</th>\n",
       "      <th>sentence</th>\n",
       "    </tr>\n",
       "  </thead>\n",
       "  <tbody>\n",
       "    <tr>\n",
       "      <th>0</th>\n",
       "      <td>1</td>\n",
       "      <td>Invoice\\n\\nStanford Plumbing &amp; Heating\\nbeotts...</td>\n",
       "    </tr>\n",
       "  </tbody>\n",
       "</table>\n",
       "</div>"
      ],
      "text/plain": [
       "   id                                           sentence\n",
       "0   1  Invoice\\n\\nStanford Plumbing & Heating\\nbeotts..."
      ]
     },
     "execution_count": 49,
     "metadata": {},
     "output_type": "execute_result"
    }
   ],
   "source": [
    "corpusdf.head(1)"
   ]
  },
  {
   "cell_type": "code",
   "execution_count": 50,
   "metadata": {},
   "outputs": [
    {
     "name": "stdout",
     "output_type": "stream",
     "text": [
      "finished\n"
     ]
    }
   ],
   "source": [
    "nlp = spacy.blank(\"en\")\n",
    "\n",
    "ruler = nlp.add_pipe(\"entity_ruler\")\n",
    "\n",
    "patterns = [\n",
    "                {\"label\": \"ORG\", \"pattern\": \"Stanford Plumbing & Heating\"},\n",
    "                {\"label\": \"recipient\", \"pattern\": \"Allen Smith\"},\n",
    "                {\"label\": \"recipientaddress\", \"pattern\": \"123 Madison drive Seattle, WA\"},\n",
    "                {\"label\": \"invoicenos\", \"pattern\": \"INVO2081\"},\n",
    "                {\"label\": \"invoicenos\", \"pattern\": \"#INVO2081\"},\n",
    "                {\"label\": \"invoicedate\", \"pattern\": \"11/11/18\"},\n",
    "                {\"label\": \"invoicedate\", \"pattern\": \"Jun 14,2018\"},\n",
    "                {\"label\": \"duedate\", \"pattern\": \"Jun 19,2018\"},\n",
    "                {\"label\": \"duedate\", \"pattern\": \"12/01/28\"},\n",
    "                {\"label\":\"Balance\",\"pattern\":\"$2,688.00\"}\n",
    "            ]\n",
    "\n",
    "ruler.add_patterns(patterns)\n",
    "\n",
    "i = 0\n",
    "entities = []\n",
    "TRAIN_DATA = []\n",
    "\n",
    "for row in corpusdf:\n",
    "    sentence = corpusdf['sentence'][i]\n",
    "    doc = nlp(sentence)\n",
    "    for ent in doc.ents:\n",
    "        entities.append([ent.label_, ent.start_char, ent.end_char])\n",
    "    TRAIN_DATA.append([sentence, {\"entities\": entities}]) \n",
    "    i = i+1 \n",
    "\n",
    "# ent.text,ent.label_\n",
    "# print (TRAIN_DATA)\n",
    "print('finished')\n"
   ]
  },
  {
   "cell_type": "code",
   "execution_count": 51,
   "metadata": {},
   "outputs": [],
   "source": [
    "# enlab = pd.DataFrame(entities,columns=['label','text','start','end']) \n",
    "# Trained = pd.DataFrame(TRAIN_DATA,columns=['sentence','entities'])\n",
    "# Trained.to_csv(\"./files/trained.csv\", index=False)\n",
    "# Trained.to_json(\"./files/trained1.json\", index=False)\n",
    "# enlab.to_json('./files/entitylabel.json',index=False)\n"
   ]
  },
  {
   "cell_type": "code",
   "execution_count": 52,
   "metadata": {},
   "outputs": [],
   "source": [
    "# Trained.head(1)"
   ]
  },
  {
   "cell_type": "code",
   "execution_count": 58,
   "metadata": {},
   "outputs": [],
   "source": [
    "import srsly\n",
    "import typer\n",
    "import warnings\n",
    "from pathlib import Path\n",
    "\n",
    "import spacy\n",
    "from spacy.tokens import DocBin\n",
    "\n",
    "def convert(lang: str, TRAIN_DATA, output_path: Path):\n",
    "    nlp = spacy.blank(lang)\n",
    "    db = DocBin()\n",
    "    for text, annot in TRAIN_DATA:\n",
    "        doc = nlp.make_doc(text)\n",
    "        ents = []\n",
    "        for  label,start,end in annot[\"entities\"]:\n",
    "            start = int(start)\n",
    "            end = int(end)\n",
    "            span = doc.char_span(start, end, label=label)\n",
    "            if span is None:\n",
    "                msg = f\"Skipping entity [{start}, {end}, {label}] in the following text because the character span '{doc.text[start:end]}' does not align with token boundaries:\\n\\n{repr(text)}\\n\"\n",
    "                warnings.warn(msg)\n",
    "            else:\n",
    "                ents.append(span)\n",
    "        doc.ents = ents\n",
    "        db.add(doc)\n",
    "    db.to_disk(output_path)"
   ]
  },
  {
   "cell_type": "code",
   "execution_count": 59,
   "metadata": {},
   "outputs": [
    {
     "name": "stderr",
     "output_type": "stream",
     "text": [
      "/tmp/ipykernel_3743/4034554150.py:21: UserWarning: Skipping entity [53, 64, recipient] in the following text because the character span 'arg cm\n",
      "12s ' does not align with token boundaries:\n",
      "\n",
      "'Invoice\\n\\nStanford Plumbing & Heating\\nbeottsanforepLamarg cm\\n12s sadiean dre\\nte wh\\n20\\nPhone sib.'\n",
      "\n",
      "  warnings.warn(msg)\n",
      "/tmp/ipykernel_3743/4034554150.py:21: UserWarning: Skipping entity [393, 402, Balance] in the following text because the character span '' does not align with token boundaries:\n",
      "\n",
      "'Invoice\\n\\nStanford Plumbing & Heating\\nbeottsanforepLamarg cm\\n12s sadiean dre\\nte wh\\n20\\nPhone sib.'\n",
      "\n",
      "  warnings.warn(msg)\n",
      "/tmp/ipykernel_3743/4034554150.py:21: UserWarning: Skipping entity [9, 36, ORG] in the following text because the character span 'ber mncuoe\n",
      "\n",
      "bate junta, 201' does not align with token boundaries:\n",
      "\n",
      "'ches\\n\\nNumber mncuoe\\n\\nbate junta, 2018\\nbee unt, 2018\\n\\nAllen Smith\\n\\nsma crm\\n\\nBe pwvat\\nte, ws\\n\\name: yf 1920\\n\\nlestlled nave kitchen sine nce suc\\nacc me about ne \"9 aed mn ety plow ana mane 54 ¢~ ens cour tetop\\nroca snk 28 feovee 1 sue\\npearing\\nNese sma thesmnoctat fesoce 1 fasuen\\nne \"222 088,\\n‘worcester Greenscar 3th sramuee 1 stones\\nBrera)\\nsubtotal seanuce\\ncsinss sesuce\\nona seasuce\\nBalance Due $2,688.00\\n\\nNotes\\nease pay vat 20 day by Fay: est@scanfoepLamoig com\\n\\nInark yea for you busiest\\n'\n",
      "\n",
      "  warnings.warn(msg)\n"
     ]
    }
   ],
   "source": [
    "convert(\"en\", TRAIN_DATA, \"./data/train.spacy\")\n",
    "convert(\"en\", TRAIN_DATA, \"./data/valid.spacy\")"
   ]
  },
  {
   "cell_type": "code",
   "execution_count": null,
   "metadata": {},
   "outputs": [
    {
     "name": "stdout",
     "output_type": "stream",
     "text": [
      "\u001b[38;5;2m✔ Auto-filled config with all values\u001b[0m\n",
      "\u001b[38;5;2m✔ Saved config\u001b[0m\n",
      "config.cfg\n",
      "You can now add your data and train your pipeline:\n",
      "python -m spacy train config.cfg --paths.train ./train.spacy --paths.dev ./dev.spacy\n"
     ]
    }
   ],
   "source": [
    "!python -m spacy init fill-config base_config.cfg config.cfg"
   ]
  },
  {
   "cell_type": "code",
   "execution_count": null,
   "metadata": {},
   "outputs": [
    {
     "name": "stdout",
     "output_type": "stream",
     "text": [
      "\u001b[38;5;4mℹ Saving to output directory: models/output\u001b[0m\n",
      "\u001b[38;5;4mℹ Using CPU\u001b[0m\n",
      "\u001b[1m\n",
      "=========================== Initializing pipeline ===========================\u001b[0m\n",
      "\u001b[38;5;2m✔ Initialized pipeline\u001b[0m\n",
      "\u001b[1m\n",
      "============================= Training pipeline =============================\u001b[0m\n",
      "\u001b[38;5;4mℹ Pipeline: ['tok2vec', 'ner']\u001b[0m\n",
      "\u001b[38;5;4mℹ Initial learn rate: 0.001\u001b[0m\n",
      "E    #       LOSS TOK2VEC  LOSS NER  ENTS_F  ENTS_P  ENTS_R  SCORE \n",
      "---  ------  ------------  --------  ------  ------  ------  ------\n",
      "  0       0          0.00     55.14    0.00    0.00    0.00    0.00\n",
      "103     200       1272.82   1310.86  100.00  100.00  100.00    1.00\n",
      "303     400          0.00      0.00  100.00  100.00  100.00    1.00\n",
      "503     600          0.00      0.00  100.00  100.00  100.00    1.00\n",
      "703     800          0.00      0.00  100.00  100.00  100.00    1.00\n",
      "903    1000          0.00      0.00  100.00  100.00  100.00    1.00\n",
      "1103    1200          0.00      0.00  100.00  100.00  100.00    1.00\n",
      "1303    1400          0.00      0.00  100.00  100.00  100.00    1.00\n",
      "1503    1600          0.00      0.00  100.00  100.00  100.00    1.00\n",
      "1703    1800          0.00      0.00  100.00  100.00  100.00    1.00\n",
      "\u001b[38;5;2m✔ Saved pipeline to output directory\u001b[0m\n",
      "models/output/model-last\n"
     ]
    }
   ],
   "source": [
    "!python -m spacy train config.cfg --output models/output"
   ]
  },
  {
   "cell_type": "code",
   "execution_count": null,
   "metadata": {},
   "outputs": [],
   "source": [
    "# In case it fails\n",
    "# !python -m spacy debug data config.cfg\n"
   ]
  }
 ],
 "metadata": {
  "kernelspec": {
   "display_name": "Python 3",
   "language": "python",
   "name": "python3"
  },
  "language_info": {
   "codemirror_mode": {
    "name": "ipython",
    "version": 3
   },
   "file_extension": ".py",
   "mimetype": "text/x-python",
   "name": "python",
   "nbconvert_exporter": "python",
   "pygments_lexer": "ipython3",
   "version": "3.11.5"
  },
  "orig_nbformat": 4
 },
 "nbformat": 4,
 "nbformat_minor": 2
}
