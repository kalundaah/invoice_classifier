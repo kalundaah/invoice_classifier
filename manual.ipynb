{
 "cells": [
  {
   "cell_type": "code",
   "execution_count": null,
   "metadata": {},
   "outputs": [],
   "source": [
    "import pandas as pd\n",
    "extracted = pd.read_csv(\"./files/extracted_text.csv\")\n",
    "extracted.head(10)"
   ]
  },
  {
   "cell_type": "code",
   "execution_count": null,
   "metadata": {},
   "outputs": [],
   "source": [
    "import spacy\n",
    "\n",
    "nlp = spacy.load(\"en_core_web_sm\")\n",
    "corpus = []\n",
    "i=0\n",
    "\n",
    "while i < (len(extracted)):\n",
    "    text = extracted['text'][i]\n",
    "    doc = nlp(text)\n",
    "    for sent in doc.sents:\n",
    "        corpus.append([i+1,sent.text])\n",
    "    i=i+1    \n"
   ]
  },
  {
   "cell_type": "code",
   "execution_count": null,
   "metadata": {},
   "outputs": [],
   "source": [
    "print(corpus)"
   ]
  },
  {
   "cell_type": "code",
   "execution_count": null,
   "metadata": {},
   "outputs": [],
   "source": [
    "corpusdf = pd.DataFrame(corpus,columns=[\"id\",\"sentence\"])"
   ]
  },
  {
   "cell_type": "code",
   "execution_count": null,
   "metadata": {},
   "outputs": [],
   "source": [
    "corpusdf.head()"
   ]
  },
  {
   "cell_type": "code",
   "execution_count": null,
   "metadata": {},
   "outputs": [],
   "source": [
    "nlp = spacy.blank(\"en\")\n",
    "\n",
    "ruler = nlp.add_pipe(\"entity_ruler\")\n",
    "\n",
    "patterns = [\n",
    "                {\"label\": \"ORG\", \"pattern\": \"Stanford Plumbing & Heating\"},\n",
    "                {\"label\": \"recipient\", \"pattern\": \"Allen Smith\"},\n",
    "                {\"label\": \"recipientaddress\", \"pattern\": \"123 Madison drive Seattle, WA\"},\n",
    "                {\"label\": \"invoicenos\", \"pattern\": \"INVO2081\"},\n",
    "                {\"label\": \"invoicenos\", \"pattern\": \"#INVO2081\"},\n",
    "                {\"label\": \"invoicedate\", \"pattern\": \"11/11/18\"},\n",
    "                {\"label\": \"invoicedate\", \"pattern\": \"Jun 14,2018\"},\n",
    "                {\"label\": \"duedate\", \"pattern\": \"Jun 19,2018\"},\n",
    "                {\"label\": \"duedate\", \"pattern\": \"12/01/28\"},\n",
    "                {\"label\":\"Balance\",\"pattern\":\"$2,688.00\"}\n",
    "            ]\n",
    "\n",
    "ruler.add_patterns(patterns)\n",
    "\n",
    "TRAIN_DATA = []\n",
    "for sentence in corpus:\n",
    "    doc = nlp(sentence)\n",
    "    entities = []\n",
    "\n",
    "    for ent in doc.ents:\n",
    "        entities.append([ent.start_char, ent.end_char, ent.label_])\n",
    "    TRAIN_DATA.append([sentence, {\"entities\": entities}])\n",
    "\n",
    "print (TRAIN_DATA)"
   ]
  },
  {
   "cell_type": "code",
   "execution_count": null,
   "metadata": {},
   "outputs": [],
   "source": [
    "# import http.client\n",
    "\n",
    "# conn = http.client.HTTPSConnection(\"random-stuff-api.p.rapidapi.com\")\n",
    "\n",
    "# payload = \"BotEmail=admin%40pgamerx.com&BotCompany=PGamerX&BotAge=19&BotName=Black%20Sheep&BotFavArtist=Eminem&BotFavColor=Black&BotFavActress=Emma%20Watson&BotFavBand=1D&BotBuild=Public&BotLocation=India&BotFavActor=Jim%20Carrey&BotMaster=Naman%20Sharma&BotBirthYear=2020&BotBirthDate=1&BotGender=Male&BotFavBook=Harry%20Potter&BotBirthPlace=India&BotBirthMonth=March\"\n",
    "\n",
    "# headers = {\n",
    "#     'content-type': \"application/x-www-form-urlencoded\",\n",
    "#     'Authorization': \"BK1e2xlp05pB\",\n",
    "#     'X-RapidAPI-Key': \"59ecf26782msh281c9adcd1424a6p1f2815jsna44541574f5f\",\n",
    "#     'X-RapidAPI-Host': \"random-stuff-api.p.rapidapi.com\"\n",
    "# }\n",
    "\n",
    "# conn.request(\"POST\", \"/ai/customize\", payload, headers)\n",
    "\n",
    "# res = conn.getresponse()\n",
    "# data = res.read()\n",
    "\n",
    "# print(data.decode(\"utf-8\"))"
   ]
  },
  {
   "cell_type": "code",
   "execution_count": null,
   "metadata": {},
   "outputs": [],
   "source": [
    "# import http.client\n",
    "\n",
    "# conn = http.client.HTTPSConnection(\"twinword-twinword-bundle-v1.p.rapidapi.com\")\n",
    "\n",
    "# headers = {\n",
    "#     'X-RapidAPI-Key': \"59ecf26782msh281c9adcd1424a6p1f2815jsna44541574f5f\",\n",
    "#     'X-RapidAPI-Host': \"twinword-twinword-bundle-v1.p.rapidapi.com\"\n",
    "# }\n",
    "\n",
    "# conn.request(\"GET\", \"/sentiment_analyze/?text=great%20value%20in%20its%20price%20range!\", headers=headers)\n",
    "\n",
    "# res = conn.getresponse()\n",
    "# data = res.read()\n",
    "\n",
    "# print(data.decode(\"utf-8\"))"
   ]
  }
 ],
 "metadata": {
  "kernelspec": {
   "display_name": "Python 3",
   "language": "python",
   "name": "python3"
  },
  "language_info": {
   "codemirror_mode": {
    "name": "ipython",
    "version": 3
   },
   "file_extension": ".py",
   "mimetype": "text/x-python",
   "name": "python",
   "nbconvert_exporter": "python",
   "pygments_lexer": "ipython3",
   "version": "3.11.5"
  },
  "orig_nbformat": 4
 },
 "nbformat": 4,
 "nbformat_minor": 2
}
