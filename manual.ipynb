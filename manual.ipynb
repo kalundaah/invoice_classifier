{
 "cells": [
  {
   "cell_type": "code",
   "execution_count": 42,
   "metadata": {},
   "outputs": [
    {
     "data": {
      "text/html": [
       "<div>\n",
       "<style scoped>\n",
       "    .dataframe tbody tr th:only-of-type {\n",
       "        vertical-align: middle;\n",
       "    }\n",
       "\n",
       "    .dataframe tbody tr th {\n",
       "        vertical-align: top;\n",
       "    }\n",
       "\n",
       "    .dataframe thead th {\n",
       "        text-align: right;\n",
       "    }\n",
       "</style>\n",
       "<table border=\"1\" class=\"dataframe\">\n",
       "  <thead>\n",
       "    <tr style=\"text-align: right;\">\n",
       "      <th></th>\n",
       "      <th>imageid</th>\n",
       "      <th>text</th>\n",
       "      <th>recipient</th>\n",
       "      <th>recipientaddress</th>\n",
       "      <th>invoicenos</th>\n",
       "      <th>invoicedate</th>\n",
       "      <th>duedate</th>\n",
       "      <th>Balance</th>\n",
       "    </tr>\n",
       "  </thead>\n",
       "  <tbody>\n",
       "    <tr>\n",
       "      <th>0</th>\n",
       "      <td>2</td>\n",
       "      <td>Invoice\\n\\nStanford Plumbing &amp; Heating\\nbeotts...</td>\n",
       "      <td>Allen Smith</td>\n",
       "      <td>123 Madison drive Seattle, WA</td>\n",
       "      <td>INVO2081</td>\n",
       "      <td>Jun 14,2018</td>\n",
       "      <td>Jun 19,2018</td>\n",
       "      <td>2,688.00</td>\n",
       "    </tr>\n",
       "    <tr>\n",
       "      <th>1</th>\n",
       "      <td>1</td>\n",
       "      <td>Stanford Plumbing &amp; Heating\\n128 Madison drive...</td>\n",
       "      <td>Allen Smith</td>\n",
       "      <td>87 Private st, Seattle, WA</td>\n",
       "      <td>INVO2081</td>\n",
       "      <td>11/11/2018</td>\n",
       "      <td>12/10/2018</td>\n",
       "      <td>2,844.80</td>\n",
       "    </tr>\n",
       "  </tbody>\n",
       "</table>\n",
       "</div>"
      ],
      "text/plain": [
       "   imageid                                               text    recipient  \\\n",
       "0        2  Invoice\\n\\nStanford Plumbing & Heating\\nbeotts...  Allen Smith   \n",
       "1        1  Stanford Plumbing & Heating\\n128 Madison drive...  Allen Smith   \n",
       "\n",
       "                recipientaddress invoicenos  invoicedate      duedate  \\\n",
       "0  123 Madison drive Seattle, WA   INVO2081  Jun 14,2018  Jun 19,2018   \n",
       "1     87 Private st, Seattle, WA   INVO2081   11/11/2018   12/10/2018   \n",
       "\n",
       "    Balance  \n",
       "0  2,688.00  \n",
       "1  2,844.80  "
      ]
     },
     "execution_count": 42,
     "metadata": {},
     "output_type": "execute_result"
    }
   ],
   "source": [
    "import pandas as pd\n",
    "extracted = pd.read_csv(\"./files/extracted_text.csv\")\n",
    "extracted.head(10)"
   ]
  },
  {
   "cell_type": "code",
   "execution_count": 43,
   "metadata": {},
   "outputs": [
    {
     "data": {
      "text/html": [
       "<div>\n",
       "<style scoped>\n",
       "    .dataframe tbody tr th:only-of-type {\n",
       "        vertical-align: middle;\n",
       "    }\n",
       "\n",
       "    .dataframe tbody tr th {\n",
       "        vertical-align: top;\n",
       "    }\n",
       "\n",
       "    .dataframe thead th {\n",
       "        text-align: right;\n",
       "    }\n",
       "</style>\n",
       "<table border=\"1\" class=\"dataframe\">\n",
       "  <thead>\n",
       "    <tr style=\"text-align: right;\">\n",
       "      <th></th>\n",
       "      <th>imageid</th>\n",
       "      <th>text</th>\n",
       "      <th>recipient</th>\n",
       "      <th>recipientaddress</th>\n",
       "      <th>invoicenos</th>\n",
       "      <th>invoicedate</th>\n",
       "      <th>duedate</th>\n",
       "      <th>Balance</th>\n",
       "    </tr>\n",
       "  </thead>\n",
       "  <tbody>\n",
       "    <tr>\n",
       "      <th>0</th>\n",
       "      <td>2</td>\n",
       "      <td>Invoice\\n\\nStanford Plumbing &amp; Heating\\nbeotts...</td>\n",
       "      <td>Allen Smith</td>\n",
       "      <td>123 Madison drive Seattle, WA</td>\n",
       "      <td>INVO2081</td>\n",
       "      <td>Jun 14,2018</td>\n",
       "      <td>Jun 19,2018</td>\n",
       "      <td>2,688.00</td>\n",
       "    </tr>\n",
       "    <tr>\n",
       "      <th>1</th>\n",
       "      <td>1</td>\n",
       "      <td>Stanford Plumbing &amp; Heating\\n128 Madison drive...</td>\n",
       "      <td>Allen Smith</td>\n",
       "      <td>87 Private st, Seattle, WA</td>\n",
       "      <td>INVO2081</td>\n",
       "      <td>11/11/2018</td>\n",
       "      <td>12/10/2018</td>\n",
       "      <td>2,844.80</td>\n",
       "    </tr>\n",
       "  </tbody>\n",
       "</table>\n",
       "</div>"
      ],
      "text/plain": [
       "   imageid                                               text    recipient  \\\n",
       "0        2  Invoice\\n\\nStanford Plumbing & Heating\\nbeotts...  Allen Smith   \n",
       "1        1  Stanford Plumbing & Heating\\n128 Madison drive...  Allen Smith   \n",
       "\n",
       "                recipientaddress invoicenos  invoicedate      duedate  \\\n",
       "0  123 Madison drive Seattle, WA   INVO2081  Jun 14,2018  Jun 19,2018   \n",
       "1     87 Private st, Seattle, WA   INVO2081   11/11/2018   12/10/2018   \n",
       "\n",
       "    Balance  \n",
       "0  2,688.00  \n",
       "1  2,844.80  "
      ]
     },
     "execution_count": 43,
     "metadata": {},
     "output_type": "execute_result"
    }
   ],
   "source": [
    "extracted.head(20)\n"
   ]
  },
  {
   "cell_type": "code",
   "execution_count": 45,
   "metadata": {},
   "outputs": [
    {
     "name": "stdout",
     "output_type": "stream",
     "text": [
      "image 1\n",
      "image 1\n"
     ]
    }
   ],
   "source": [
    "import spacy\n",
    "\n",
    "nlp = spacy.load(\"en_core_web_sm\")\n",
    "corpus = []\n",
    "i=0\n",
    "\n",
    "\n",
    "text = extracted['text'][0]\n",
    "doc = nlp(text)\n",
    "for sent in doc.sents:\n",
    "    corpus.append(sent.text)\n",
    "\n"
   ]
  },
  {
   "cell_type": "code",
   "execution_count": 49,
   "metadata": {},
   "outputs": [
    {
     "name": "stdout",
     "output_type": "stream",
     "text": [
      "Invoice\n",
      "\n",
      "Stanford Plumbing & Heating\n",
      "beottsanforepLamarg cm\n",
      "12s sadiean dre\n",
      "te wh\n",
      "20\n",
      "Phone sib.\n",
      "ches\n",
      "\n",
      "Number mncuoe\n",
      "\n",
      "bate junta, 2018\n",
      "bee unt, 2018\n",
      "\n",
      "Allen Smith\n",
      "\n",
      "sma crm\n",
      "\n",
      "Be pwvat\n",
      "te, ws\n",
      "\n",
      "ame: yf 1920\n",
      "\n",
      "lestlled nave kitchen sine nce suc\n",
      "acc me about ne \"9 aed mn ety plow ana mane 54 ¢~ ens cour tetop\n",
      "roca snk 28 feovee 1 sue\n",
      "pearing\n",
      "Nese sma thesmnoctat fesoce 1 fasuen\n",
      "ne \"222 088,\n",
      "‘worcester Greenscar 3th sramuee 1 stones\n",
      "Brera)\n",
      "subtotal seanuce\n",
      "csinss sesuce\n",
      "ona seasuce\n",
      "Balance Due $2,688.00\n",
      "\n",
      "Notes\n",
      "ease pay vat 20 day by Fay: est@scanfoepLamoig com\n",
      "\n",
      "Inark yea for you busiest\n",
      "\n"
     ]
    }
   ],
   "source": []
  },
  {
   "cell_type": "code",
   "execution_count": 2,
   "metadata": {},
   "outputs": [],
   "source": [
    "from faker import Faker "
   ]
  },
  {
   "cell_type": "code",
   "execution_count": 48,
   "metadata": {},
   "outputs": [
    {
     "name": "stdout",
     "output_type": "stream",
     "text": [
      "[['Invoice\\n\\nStanford Plumbing & Heating\\nbeottsanforepLamarg cm\\n12s sadiean dre\\nte wh\\n20\\nPhone sib.', {'entities': [[9, 36, 'ORG']]}], ['ches\\n\\nNumber mncuoe\\n\\nbate junta, 2018\\nbee unt, 2018\\n\\nAllen Smith\\n\\nsma crm\\n\\nBe pwvat\\nte, ws\\n\\name: yf 1920\\n\\nlestlled nave kitchen sine nce suc\\nacc me about ne \"9 aed mn ety plow ana mane 54 ¢~ ens cour tetop\\nroca snk 28 feovee 1 sue\\npearing\\nNese sma thesmnoctat fesoce 1 fasuen\\nne \"222 088,\\n‘worcester Greenscar 3th sramuee 1 stones\\nBrera)\\nsubtotal seanuce\\ncsinss sesuce\\nona seasuce\\nBalance Due $2,688.00\\n\\nNotes\\nease pay vat 20 day by Fay: est@scanfoepLamoig com\\n\\nInark yea for you busiest\\n', {'entities': [[53, 64, 'recipient'], [393, 402, 'Balance']]}]]\n"
     ]
    }
   ],
   "source": [
    "nlp = spacy.blank(\"en\")\n",
    "\n",
    "ruler = nlp.add_pipe(\"entity_ruler\")\n",
    "\n",
    "patterns = [\n",
    "                {\"label\": \"ORG\", \"pattern\": \"Stanford Plumbing & Heating\"},\n",
    "                {\"label\": \"recipient\", \"pattern\": \"Allen Smith\"},\n",
    "                {\"label\": \"recipientaddress\", \"pattern\": \"123 Madison drive Seattle, WA\"},\n",
    "                {\"label\": \"invoicenos\", \"pattern\": \"INVO2081\"},\n",
    "                {\"label\": \"invoicenos\", \"pattern\": \"#INVO2081\"},\n",
    "                {\"label\": \"invoicedate\", \"pattern\": \"11/11/18\"},\n",
    "                {\"label\": \"invoicedate\", \"pattern\": \"Jun 14,2018\"},\n",
    "                {\"label\": \"duedate\", \"pattern\": \"Jun 19,2018\"},\n",
    "                {\"label\": \"duedate\", \"pattern\": \"12/01/28\"},\n",
    "                {\"label\":\"Balance\",\"pattern\":\"$2,688.00\"}\n",
    "            ]\n",
    "\n",
    "ruler.add_patterns(patterns)\n",
    "\n",
    "TRAIN_DATA = []\n",
    "for sentence in corpus:\n",
    "    doc = nlp(sentence)\n",
    "    entities = []\n",
    "\n",
    "    for ent in doc.ents:\n",
    "        entities.append([ent.start_char, ent.end_char, ent.label_])\n",
    "    TRAIN_DATA.append([sentence, {\"entities\": entities}])\n",
    "\n",
    "print (TRAIN_DATA)"
   ]
  },
  {
   "cell_type": "code",
   "execution_count": null,
   "metadata": {},
   "outputs": [],
   "source": [
    "# import http.client\n",
    "\n",
    "# conn = http.client.HTTPSConnection(\"random-stuff-api.p.rapidapi.com\")\n",
    "\n",
    "# payload = \"BotEmail=admin%40pgamerx.com&BotCompany=PGamerX&BotAge=19&BotName=Black%20Sheep&BotFavArtist=Eminem&BotFavColor=Black&BotFavActress=Emma%20Watson&BotFavBand=1D&BotBuild=Public&BotLocation=India&BotFavActor=Jim%20Carrey&BotMaster=Naman%20Sharma&BotBirthYear=2020&BotBirthDate=1&BotGender=Male&BotFavBook=Harry%20Potter&BotBirthPlace=India&BotBirthMonth=March\"\n",
    "\n",
    "# headers = {\n",
    "#     'content-type': \"application/x-www-form-urlencoded\",\n",
    "#     'Authorization': \"BK1e2xlp05pB\",\n",
    "#     'X-RapidAPI-Key': \"59ecf26782msh281c9adcd1424a6p1f2815jsna44541574f5f\",\n",
    "#     'X-RapidAPI-Host': \"random-stuff-api.p.rapidapi.com\"\n",
    "# }\n",
    "\n",
    "# conn.request(\"POST\", \"/ai/customize\", payload, headers)\n",
    "\n",
    "# res = conn.getresponse()\n",
    "# data = res.read()\n",
    "\n",
    "# print(data.decode(\"utf-8\"))"
   ]
  },
  {
   "cell_type": "code",
   "execution_count": null,
   "metadata": {},
   "outputs": [],
   "source": [
    "# import http.client\n",
    "\n",
    "# conn = http.client.HTTPSConnection(\"twinword-twinword-bundle-v1.p.rapidapi.com\")\n",
    "\n",
    "# headers = {\n",
    "#     'X-RapidAPI-Key': \"59ecf26782msh281c9adcd1424a6p1f2815jsna44541574f5f\",\n",
    "#     'X-RapidAPI-Host': \"twinword-twinword-bundle-v1.p.rapidapi.com\"\n",
    "# }\n",
    "\n",
    "# conn.request(\"GET\", \"/sentiment_analyze/?text=great%20value%20in%20its%20price%20range!\", headers=headers)\n",
    "\n",
    "# res = conn.getresponse()\n",
    "# data = res.read()\n",
    "\n",
    "# print(data.decode(\"utf-8\"))"
   ]
  }
 ],
 "metadata": {
  "kernelspec": {
   "display_name": "Python 3",
   "language": "python",
   "name": "python3"
  },
  "language_info": {
   "codemirror_mode": {
    "name": "ipython",
    "version": 3
   },
   "file_extension": ".py",
   "mimetype": "text/x-python",
   "name": "python",
   "nbconvert_exporter": "python",
   "pygments_lexer": "ipython3",
   "version": "3.11.5"
  },
  "orig_nbformat": 4
 },
 "nbformat": 4,
 "nbformat_minor": 2
}
